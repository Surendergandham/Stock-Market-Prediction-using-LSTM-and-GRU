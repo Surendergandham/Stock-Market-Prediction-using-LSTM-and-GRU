{
  "nbformat": 4,
  "nbformat_minor": 2,
  "metadata": {
    "colab": {
      "name": "PROJECT.ipynb",
      "provenance": [],
      "collapsed_sections": []
    },
    "kernelspec": {
      "name": "python3",
      "display_name": "Python 3.9.1 64-bit"
    },
    "accelerator": "GPU",
    "language_info": {
      "name": "python",
      "version": "3.9.1",
      "mimetype": "text/x-python",
      "codemirror_mode": {
        "name": "ipython",
        "version": 3
      },
      "pygments_lexer": "ipython3",
      "nbconvert_exporter": "python",
      "file_extension": ".py"
    },
    "interpreter": {
      "hash": "aee8b7b246df8f9039afb4144a1f6fd8d2ca17a180786b69acc140d282b71a49"
    }
  },
  "cells": [
    {
      "cell_type": "markdown",
      "source": [
        "## **Importing Required Libraries**"
      ],
      "metadata": {
        "id": "RrMOn0ZnCzcN"
      }
    },
    {
      "cell_type": "code",
      "execution_count": 1,
      "source": [
        "import pandas as pd\n",
        "import pandas_datareader.data as web\n",
        "import matplotlib.pyplot as plt\n",
        "import seaborn as sns\n",
        "import datetime as dt\n",
        "%matplotlib inline\n",
        "from sklearn.preprocessing import StandardScaler as sct\n",
        "from keras.models import Sequential\n",
        "from keras.layers import Dense, Dropout, LSTM, GRU, Bidirectional\n",
        "from keras.optimizers import SGD"
      ],
      "outputs": [],
      "metadata": {
        "id": "fhaDqyRA6772"
      }
    },
    {
      "cell_type": "markdown",
      "source": [
        "## **Creating parameters for the stock**"
      ],
      "metadata": {
        "id": "8MgbNgtODHIj"
      }
    },
    {
      "cell_type": "code",
      "execution_count": null,
      "source": [
        "end = dt.datetime.now()\n",
        "start = dt.datetime(2002, 1, 1)\n",
        "m = web.DataReader(\"MRF.NS\", 'yahoo', start, end)"
      ],
      "outputs": [
        {
          "output_type": "error",
          "ename": "Error",
          "evalue": "Session cannot generate requests",
          "traceback": [
            "Error: Session cannot generate requests",
            "at w.executeCodeCell (/Users/surender/.vscode/extensions/ms-toolsai.jupyter-2021.8.1054968649/out/client/extension.js:90:320068)",
            "at w.execute (/Users/surender/.vscode/extensions/ms-toolsai.jupyter-2021.8.1054968649/out/client/extension.js:90:319389)",
            "at w.start (/Users/surender/.vscode/extensions/ms-toolsai.jupyter-2021.8.1054968649/out/client/extension.js:90:315205)",
            "at processTicksAndRejections (internal/process/task_queues.js:93:5)",
            "at async t.CellExecutionQueue.executeQueuedCells (/Users/surender/.vscode/extensions/ms-toolsai.jupyter-2021.8.1054968649/out/client/extension.js:90:329732)",
            "at async t.CellExecutionQueue.start (/Users/surender/.vscode/extensions/ms-toolsai.jupyter-2021.8.1054968649/out/client/extension.js:90:329272)"
          ]
        }
      ],
      "metadata": {
        "id": "wR3p_HoR7EBn"
      }
    },
    {
      "cell_type": "code",
      "execution_count": null,
      "source": [
        "m.head()\n",
        "m.dtypes\n",
        "m=pd.DataFrame(m)\n"
      ],
      "outputs": [],
      "metadata": {
        "id": "ooPFaaGM7al5"
      }
    },
    {
      "cell_type": "code",
      "execution_count": null,
      "source": [
        "m.head()"
      ],
      "outputs": [
        {
          "output_type": "execute_result",
          "data": {
            "text/plain": [
              "             High    Low   Open       Close  Volume   Adj Close\n",
              "Date                                                           \n",
              "2002-07-01  910.0  880.0  910.0  897.599976   426.0  817.111633\n",
              "2002-07-02  905.0  895.0  900.0  903.650024   310.0  822.619263\n",
              "2002-07-03  910.0  900.0  910.0  906.700012   336.0  825.395691\n",
              "2002-07-04  925.0  910.0  920.0  916.799988   591.0  834.589966\n",
              "2002-07-05  935.0  910.0  915.0  927.299988  1623.0  844.148315"
            ],
            "text/html": [
              "<div>\n",
              "<style scoped>\n",
              "    .dataframe tbody tr th:only-of-type {\n",
              "        vertical-align: middle;\n",
              "    }\n",
              "\n",
              "    .dataframe tbody tr th {\n",
              "        vertical-align: top;\n",
              "    }\n",
              "\n",
              "    .dataframe thead th {\n",
              "        text-align: right;\n",
              "    }\n",
              "</style>\n",
              "<table border=\"1\" class=\"dataframe\">\n",
              "  <thead>\n",
              "    <tr style=\"text-align: right;\">\n",
              "      <th></th>\n",
              "      <th>High</th>\n",
              "      <th>Low</th>\n",
              "      <th>Open</th>\n",
              "      <th>Close</th>\n",
              "      <th>Volume</th>\n",
              "      <th>Adj Close</th>\n",
              "    </tr>\n",
              "    <tr>\n",
              "      <th>Date</th>\n",
              "      <th></th>\n",
              "      <th></th>\n",
              "      <th></th>\n",
              "      <th></th>\n",
              "      <th></th>\n",
              "      <th></th>\n",
              "    </tr>\n",
              "  </thead>\n",
              "  <tbody>\n",
              "    <tr>\n",
              "      <th>2002-07-01</th>\n",
              "      <td>910.0</td>\n",
              "      <td>880.0</td>\n",
              "      <td>910.0</td>\n",
              "      <td>897.599976</td>\n",
              "      <td>426.0</td>\n",
              "      <td>817.111633</td>\n",
              "    </tr>\n",
              "    <tr>\n",
              "      <th>2002-07-02</th>\n",
              "      <td>905.0</td>\n",
              "      <td>895.0</td>\n",
              "      <td>900.0</td>\n",
              "      <td>903.650024</td>\n",
              "      <td>310.0</td>\n",
              "      <td>822.619263</td>\n",
              "    </tr>\n",
              "    <tr>\n",
              "      <th>2002-07-03</th>\n",
              "      <td>910.0</td>\n",
              "      <td>900.0</td>\n",
              "      <td>910.0</td>\n",
              "      <td>906.700012</td>\n",
              "      <td>336.0</td>\n",
              "      <td>825.395691</td>\n",
              "    </tr>\n",
              "    <tr>\n",
              "      <th>2002-07-04</th>\n",
              "      <td>925.0</td>\n",
              "      <td>910.0</td>\n",
              "      <td>920.0</td>\n",
              "      <td>916.799988</td>\n",
              "      <td>591.0</td>\n",
              "      <td>834.589966</td>\n",
              "    </tr>\n",
              "    <tr>\n",
              "      <th>2002-07-05</th>\n",
              "      <td>935.0</td>\n",
              "      <td>910.0</td>\n",
              "      <td>915.0</td>\n",
              "      <td>927.299988</td>\n",
              "      <td>1623.0</td>\n",
              "      <td>844.148315</td>\n",
              "    </tr>\n",
              "  </tbody>\n",
              "</table>\n",
              "</div>"
            ]
          },
          "metadata": {
            "tags": []
          },
          "execution_count": 6
        }
      ],
      "metadata": {
        "colab": {
          "base_uri": "https://localhost:8080/",
          "height": 225
        },
        "id": "4cwPsxvHlIVb",
        "outputId": "9d713ac8-cd62-49d2-8d77-a7e11bffa137"
      }
    },
    {
      "cell_type": "code",
      "execution_count": null,
      "source": [
        "m=m.reset_index()"
      ],
      "outputs": [],
      "metadata": {
        "id": "qJu1ZpFA64xQ"
      }
    },
    {
      "cell_type": "code",
      "execution_count": null,
      "source": [
        "sns.lineplot(x='Date',y='Close',data=m)"
      ],
      "outputs": [
        {
          "output_type": "execute_result",
          "data": {
            "text/plain": [
              "<Figure size 720x720 with 0 Axes>"
            ]
          },
          "metadata": {
            "tags": []
          },
          "execution_count": 16
        },
        {
          "output_type": "display_data",
          "data": {
            "text/plain": [
              "<Figure size 432x288 with 1 Axes>"
            ],
            "image/png": "[encoded data removed]"
          },
          "metadata": {
            "tags": [],
            "needs_background": "light"
          }
        },
        {
          "output_type": "display_data",
          "data": {
            "text/plain": [
              "<Figure size 720x720 with 0 Axes>"
            ]
          },
          "metadata": {
            "tags": []
          }
        }
      ],
      "metadata": {
        "colab": {
          "base_uri": "https://localhost:8080/",
          "height": 313
        },
        "id": "ZDUhggWb6D62",
        "outputId": "5e2ea1b8-ee84-4d07-fc5d-72d4a07ec69b"
      }
    },
    {
      "cell_type": "code",
      "execution_count": null,
      "source": [
        "import plotly as plt"
      ],
      "outputs": [],
      "metadata": {
        "id": "41382FKvCM8G"
      }
    },
    {
      "cell_type": "code",
      "execution_count": 1,
      "source": [
        "sns.heatmap()"
      ],
      "outputs": [
        {
          "output_type": "error",
          "ename": "NameError",
          "evalue": "name 'sns' is not defined",
          "traceback": [
            "\u001b[0;31m---------------------------------------------------------------------------\u001b[0m",
            "\u001b[0;31mNameError\u001b[0m                                 Traceback (most recent call last)",
            "\u001b[0;32m/var/folders/5y/3gxzmwjd5v77c960vpr3gf840000gn/T/ipykernel_4816/1502655428.py\u001b[0m in \u001b[0;36m<module>\u001b[0;34m\u001b[0m\n\u001b[0;32m----> 1\u001b[0;31m \u001b[0msns\u001b[0m\u001b[0;34m.\u001b[0m\u001b[0mheatmap\u001b[0m\u001b[0;34m(\u001b[0m\u001b[0;34m)\u001b[0m\u001b[0;34m\u001b[0m\u001b[0;34m\u001b[0m\u001b[0m\n\u001b[0m",
            "\u001b[0;31mNameError\u001b[0m: name 'sns' is not defined"
          ]
        }
      ],
      "metadata": {
        "colab": {
          "base_uri": "https://localhost:8080/",
          "height": 162
        },
        "id": "Mh31jaLu7cvk",
        "outputId": "83ee9cb3-1eb4-40fb-ae91-fd45b61d581a"
      }
    },
    {
      "cell_type": "code",
      "execution_count": null,
      "source": [
        "m.rolling(1).mean().plot(label='12 Month Rolling Mean',)\n",
        "plt.legend()"
      ],
      "outputs": [
        {
          "output_type": "execute_result",
          "data": {
            "text/plain": [
              "<matplotlib.legend.Legend at 0x7f9f4bbb4ef0>"
            ]
          },
          "metadata": {
            "tags": []
          },
          "execution_count": 17
        },
        {
          "output_type": "display_data",
          "data": {
            "text/plain": [
              "<Figure size 432x288 with 1 Axes>"
            ],
            "image/png": "[encoded data removed]"
          },
          "metadata": {
            "tags": [],
            "needs_background": "light"
          }
        }
      ],
      "metadata": {
        "id": "sDgg6U6FDyUt",
        "colab": {
          "base_uri": "https://localhost:8080/",
          "height": 282
        },
        "outputId": "0f4fa695-df59-4068-a306-ae0194de69c3"
      }
    },
    {
      "cell_type": "code",
      "execution_count": null,
      "source": [
        "from statsmodels.tsa.seasonal import seasonal_decompose\n",
        "decomposition = seasonal_decompose(sk1, freq=12)  \n",
        "fig = plt.figure()  \n",
        "fig = decomposition.plot()  \n",
        "fig.set_size_inches(15,8)"
      ],
      "outputs": [
        {
          "output_type": "display_data",
          "data": {
            "text/plain": [
              "<Figure size 432x288 with 0 Axes>"
            ]
          },
          "metadata": {
            "tags": []
          }
        },
        {
          "output_type": "display_data",
          "data": {
            "text/plain": [
              "<Figure size 1080x576 with 4 Axes>"
            ],
            "image/png": "[encoded data removed]"
          },
          "metadata": {
            "tags": [],
            "needs_background": "light"
          }
        }
      ],
      "metadata": {
        "id": "QmQnyLCtAGJ7",
        "colab": {
          "base_uri": "https://localhost:8080/",
          "height": 525
        },
        "outputId": "37b41d43-4bcb-4d05-ee8d-6df7e5e0d041"
      }
    },
    {
      "cell_type": "code",
      "execution_count": null,
      "source": [
        "from statsmodels.tsa.stattools import adfuller"
      ],
      "outputs": [],
      "metadata": {
        "id": "h1kV5oJpAu75"
      }
    },
    {
      "cell_type": "code",
      "execution_count": null,
      "source": [
        "def adf_check(time_series):\n",
        "    \"\"\"\n",
        "    Pass in a time series, returns ADF report\n",
        "    \"\"\"\n",
        "    result = adfuller(time_series)\n",
        "    print('Augmented Dickey-Fuller Test:')\n",
        "    labels = ['ADF Test Statistic','p-value','#Lags Used','Number of Observations Used']\n",
        "\n",
        "    for value,label in zip(result,labels):\n",
        "        print(label+' : '+str(value) )\n",
        "    \n",
        "    if result[1] <= 0.05:\n",
        "        print(\"strong evidence against the null hypothesis, reject the null hypothesis. Data has no unit root and is stationary\")\n",
        "    else:\n",
        "        print(\"weak evidence against null hypothesis, time series has a unit root, indicating it is non-stationary \")"
      ],
      "outputs": [],
      "metadata": {
        "id": "6ihe_MCoAwaY"
      }
    },
    {
      "cell_type": "code",
      "execution_count": null,
      "source": [
        "adf_check(sk['Close'])"
      ],
      "outputs": [
        {
          "output_type": "stream",
          "name": "stdout",
          "text": [
            "Augmented Dickey-Fuller Test:\n",
            "ADF Test Statistic : -2.861092583433754\n",
            "p-value : 0.05006308046765027\n",
            "#Lags Used : 3\n",
            "Number of Observations Used : 650\n",
            "weak evidence against null hypothesis, time series has a unit root, indicating it is non-stationary \n"
          ]
        }
      ],
      "metadata": {
        "id": "NPi8wRn_BNHq",
        "colab": {
          "base_uri": "https://localhost:8080/"
        },
        "outputId": "866d44c8-51c3-48b6-b304-906b43d5f3cd"
      }
    },
    {
      "cell_type": "code",
      "execution_count": null,
      "source": [
        "sk['Open First Difference'] = sk['Close'] - sk['Close'].shift(1)"
      ],
      "outputs": [],
      "metadata": {
        "id": "wMaGyFK8Bhw8"
      }
    },
    {
      "cell_type": "code",
      "execution_count": null,
      "source": [
        "sk['Open First Difference'].head()"
      ],
      "outputs": [
        {
          "output_type": "execute_result",
          "data": {
            "text/plain": [
              "Date\n",
              "2018-04-02          NaN\n",
              "2018-04-03   -20.650024\n",
              "2018-04-04   -12.699951\n",
              "2018-04-05    -1.950073\n",
              "2018-04-06   -11.099976\n",
              "Name: Open First Difference, dtype: float64"
            ]
          },
          "metadata": {
            "tags": []
          },
          "execution_count": 241
        }
      ],
      "metadata": {
        "id": "rOOG9apFHUOZ",
        "colab": {
          "base_uri": "https://localhost:8080/"
        },
        "outputId": "49d48ae8-9dd3-4643-f39b-6a5db851e23b"
      }
    },
    {
      "cell_type": "code",
      "execution_count": null,
      "source": [
        "adf_check(sk['Open First Difference'].dropna())"
      ],
      "outputs": [
        {
          "output_type": "stream",
          "name": "stdout",
          "text": [
            "Augmented Dickey-Fuller Test:\n",
            "ADF Test Statistic : -12.860595815748763\n",
            "p-value : 5.120309835914041e-24\n",
            "#Lags Used : 2\n",
            "Number of Observations Used : 650\n",
            "strong evidence against the null hypothesis, reject the null hypothesis. Data has no unit root and is stationary\n"
          ]
        }
      ],
      "metadata": {
        "id": "dJnAt4LwxAua",
        "colab": {
          "base_uri": "https://localhost:8080/"
        },
        "outputId": "61637f90-ba0c-4027-f14d-a1a7bde6d207"
      }
    },
    {
      "cell_type": "code",
      "execution_count": null,
      "source": [
        "sk['Open First Difference'].plot()"
      ],
      "outputs": [
        {
          "output_type": "execute_result",
          "data": {
            "text/plain": [
              "<matplotlib.axes._subplots.AxesSubplot at 0x7f9b8b8c4080>"
            ]
          },
          "metadata": {
            "tags": []
          },
          "execution_count": 243
        },
        {
          "output_type": "display_data",
          "data": {
            "text/plain": [
              "<Figure size 432x288 with 1 Axes>"
            ],
            "image/png": "[encoded data removed]"
          },
          "metadata": {
            "tags": [],
            "needs_background": "light"
          }
        }
      ],
      "metadata": {
        "id": "GDGxYax_GLb5",
        "colab": {
          "base_uri": "https://localhost:8080/",
          "height": 294
        },
        "outputId": "45719791-1948-4f2d-a74e-340659d6b135"
      }
    },
    {
      "cell_type": "code",
      "execution_count": null,
      "source": [
        "from statsmodels.graphics.tsaplots import plot_acf,plot_pacf"
      ],
      "outputs": [],
      "metadata": {
        "id": "pF2PMT4nxedl"
      }
    },
    {
      "cell_type": "code",
      "execution_count": null,
      "source": [
        "fig_first = plot_acf(sk[\"Open First Difference\"].dropna())"
      ],
      "outputs": [
        {
          "output_type": "display_data",
          "data": {
            "text/plain": [
              "<Figure size 432x288 with 1 Axes>"
            ],
            "image/png": "[encoded data removed]"
          },
          "metadata": {
            "tags": [],
            "needs_background": "light"
          }
        }
      ],
      "metadata": {
        "id": "YwlFhSgIxlrg",
        "colab": {
          "base_uri": "https://localhost:8080/",
          "height": 281
        },
        "outputId": "b79350d6-3353-4209-d812-22b3e58ad70b"
      }
    },
    {
      "cell_type": "code",
      "execution_count": null,
      "source": [
        "result = plot_pacf(sk[\"Open First Difference\"].dropna())"
      ],
      "outputs": [
        {
          "output_type": "display_data",
          "data": {
            "text/plain": [
              "<Figure size 432x288 with 1 Axes>"
            ],
            "image/png": "[encoded data removed]"
          },
          "metadata": {
            "tags": [],
            "needs_background": "light"
          }
        }
      ],
      "metadata": {
        "id": "qa-PKn9ZxyJG",
        "colab": {
          "base_uri": "https://localhost:8080/",
          "height": 281
        },
        "outputId": "14f2c847-8d65-4301-f0bf-b93dc761939d"
      }
    },
    {
      "cell_type": "code",
      "execution_count": null,
      "source": [
        "sk['Close'].plot(figsize=(16,6))\n",
        "sk.rolling(window=30).mean()['Close'].plot\n",
        "plt.show"
      ],
      "outputs": [
        {
          "output_type": "execute_result",
          "data": {
            "text/plain": [
              "<function matplotlib.pyplot.show>"
            ]
          },
          "metadata": {
            "tags": []
          },
          "execution_count": 247
        },
        {
          "output_type": "display_data",
          "data": {
            "text/plain": [
              "<Figure size 1152x432 with 1 Axes>"
            ],
            "image/png": "[encoded data removed]"
          },
          "metadata": {
            "tags": [],
            "needs_background": "light"
          }
        }
      ],
      "metadata": {
        "id": "r6ZDIF_C2esX",
        "colab": {
          "base_uri": "https://localhost:8080/",
          "height": 392
        },
        "outputId": "ab8682a8-6b56-496c-a842-b084578d1f7a"
      }
    },
    {
      "cell_type": "code",
      "execution_count": null,
      "source": [
        "sk1=sk.reset_index()['Close']"
      ],
      "outputs": [],
      "metadata": {
        "id": "XF9E7o8pOt6q"
      }
    },
    {
      "cell_type": "code",
      "execution_count": null,
      "source": [
        "sk1.tail()"
      ],
      "outputs": [
        {
          "output_type": "execute_result",
          "data": {
            "text/plain": [
              "649    774.250000\n",
              "650    772.200012\n",
              "651    772.150024\n",
              "652    791.200012\n",
              "653    810.450012\n",
              "Name: Close, dtype: float64"
            ]
          },
          "metadata": {
            "tags": []
          },
          "execution_count": 249
        }
      ],
      "metadata": {
        "id": "cyoVgWE8O2Sm",
        "colab": {
          "base_uri": "https://localhost:8080/"
        },
        "outputId": "fabe8654-66b6-470e-bade-a27b549d5a16"
      }
    },
    {
      "cell_type": "code",
      "execution_count": null,
      "source": [
        "plt.plot(sk1)"
      ],
      "outputs": [
        {
          "output_type": "execute_result",
          "data": {
            "text/plain": [
              "[<matplotlib.lines.Line2D at 0x7f9b8b727748>]"
            ]
          },
          "metadata": {
            "tags": []
          },
          "execution_count": 250
        },
        {
          "output_type": "display_data",
          "data": {
            "text/plain": [
              "<Figure size 432x288 with 1 Axes>"
            ],
            "image/png": "[encoded data removed]"
          },
          "metadata": {
            "tags": [],
            "needs_background": "light"
          }
        }
      ],
      "metadata": {
        "colab": {
          "base_uri": "https://localhost:8080/",
          "height": 282
        },
        "id": "jkHRHMtnrQFo",
        "outputId": "6f2f2595-b8c3-4ff3-b39a-a9c2013b17fa"
      }
    },
    {
      "cell_type": "code",
      "execution_count": null,
      "source": [
        "import numpy as np\n",
        "from sklearn.preprocessing import MinMaxScaler"
      ],
      "outputs": [],
      "metadata": {
        "id": "Snj_-sL8PFFS"
      }
    },
    {
      "cell_type": "code",
      "execution_count": null,
      "source": [
        "scaler=MinMaxScaler(feature_range=(0,1))\n",
        "sk1=scaler.fit_transform(np.array(sk1).reshape(-1,1))\n"
      ],
      "outputs": [],
      "metadata": {
        "id": "1Lf8Le3JPI0O"
      }
    },
    {
      "cell_type": "code",
      "execution_count": null,
      "source": [
        "sk1"
      ],
      "outputs": [
        {
          "output_type": "execute_result",
          "data": {
            "text/plain": [
              "array([[8.22742089e-01],\n",
              "       [7.97384411e-01],\n",
              "       [7.81789210e-01],\n",
              "       [7.79394573e-01],\n",
              "       [7.65764099e-01],\n",
              "       [7.67728827e-01],\n",
              "       [7.65088804e-01],\n",
              "       [7.58948938e-01],\n",
              "       [7.45257006e-01],\n",
              "       [7.90569249e-01],\n",
              "       [8.21084355e-01],\n",
              "       [8.19242395e-01],\n",
              "       [7.99103603e-01],\n",
              "       [8.12672768e-01],\n",
              "       [7.93639182e-01],\n",
              "       [8.00700029e-01],\n",
              "       [8.00086042e-01],\n",
              "       [7.93516265e-01],\n",
              "       [7.99656132e-01],\n",
              "       [7.93946176e-01],\n",
              "       [7.92165525e-01],\n",
              "       [7.79763025e-01],\n",
              "       [7.56124539e-01],\n",
              "       [7.54344038e-01],\n",
              "       [7.72272418e-01],\n",
              "       [7.67606059e-01],\n",
              "       [7.54221121e-01],\n",
              "       [7.44520252e-01],\n",
              "       [7.41634395e-01],\n",
              "       [7.21065842e-01],\n",
              "       [7.07435369e-01],\n",
              "       [6.93866354e-01],\n",
              "       [6.88279016e-01],\n",
              "       [6.79805971e-01],\n",
              "       [6.65684278e-01],\n",
              "       [6.66421107e-01],\n",
              "       [6.58684890e-01],\n",
              "       [6.50211845e-01],\n",
              "       [6.67403471e-01],\n",
              "       [6.91471717e-01],\n",
              "       [6.99269317e-01],\n",
              "       [7.39362674e-01],\n",
              "       [7.09584322e-01],\n",
              "       [6.76122051e-01],\n",
              "       [6.62245968e-01],\n",
              "       [6.31792246e-01],\n",
              "       [6.35660392e-01],\n",
              "       [6.38914476e-01],\n",
              "       [6.27739949e-01],\n",
              "       [6.23626194e-01],\n",
              "       [6.07232781e-01],\n",
              "       [5.95812644e-01],\n",
              "       [6.06434568e-01],\n",
              "       [6.00785921e-01],\n",
              "       [5.76656216e-01],\n",
              "       [5.53754560e-01],\n",
              "       [5.47491851e-01],\n",
              "       [5.31405431e-01],\n",
              "       [5.34352597e-01],\n",
              "       [5.17897725e-01],\n",
              "       [5.00767483e-01],\n",
              "       [4.74059065e-01],\n",
              "       [4.47780482e-01],\n",
              "       [4.48394468e-01],\n",
              "       [4.65708862e-01],\n",
              "       [4.48333010e-01],\n",
              "       [4.39000443e-01],\n",
              "       [4.28255677e-01],\n",
              "       [4.29176657e-01],\n",
              "       [4.21563208e-01],\n",
              "       [4.52937910e-01],\n",
              "       [4.42193143e-01],\n",
              "       [4.32676351e-01],\n",
              "       [4.26720710e-01],\n",
              "       [4.10572832e-01],\n",
              "       [4.13826991e-01],\n",
              "       [3.98968544e-01],\n",
              "       [3.85829215e-01],\n",
              "       [3.75514210e-01],\n",
              "       [3.60962757e-01],\n",
              "       [3.72014516e-01],\n",
              "       [3.76619416e-01],\n",
              "       [3.71830290e-01],\n",
              "       [3.80733096e-01],\n",
              "       [5.04635629e-01],\n",
              "       [6.00908688e-01],\n",
              "       [6.14846230e-01],\n",
              "       [5.87339599e-01],\n",
              "       [5.93847842e-01],\n",
              "       [5.85006494e-01],\n",
              "       [6.06557410e-01],\n",
              "       [6.05882040e-01],\n",
              "       [6.22398220e-01],\n",
              "       [6.10978084e-01],\n",
              "       [6.19635281e-01],\n",
              "       [5.93663691e-01],\n",
              "       [5.67016656e-01],\n",
              "       [5.60201419e-01],\n",
              "       [5.46079727e-01],\n",
              "       [5.33984145e-01],\n",
              "       [5.28151272e-01],\n",
              "       [5.10714112e-01],\n",
              "       [5.41351985e-01],\n",
              "       [5.14152422e-01],\n",
              "       [5.12924449e-01],\n",
              "       [5.12556072e-01],\n",
              "       [5.07152959e-01],\n",
              "       [5.11266640e-01],\n",
              "       [5.01627080e-01],\n",
              "       [4.78234204e-01],\n",
              "       [4.73997681e-01],\n",
              "       [5.43685164e-01],\n",
              "       [5.54061553e-01],\n",
              "       [5.31098438e-01],\n",
              "       [5.22318399e-01],\n",
              "       [5.56333274e-01],\n",
              "       [5.81936561e-01],\n",
              "       [5.92005882e-01],\n",
              "       [5.59341823e-01],\n",
              "       [5.23730598e-01],\n",
              "       [4.82163733e-01],\n",
              "       [4.45631529e-01],\n",
              "       [4.42315986e-01],\n",
              "       [4.26290950e-01],\n",
              "       [3.69067350e-01],\n",
              "       [3.97065126e-01],\n",
              "       [4.06704761e-01],\n",
              "       [3.97187968e-01],\n",
              "       [3.84294249e-01],\n",
              "       [3.70479550e-01],\n",
              "       [3.57278837e-01],\n",
              "       [3.62006504e-01],\n",
              "       [3.53042314e-01],\n",
              "       [3.67041239e-01],\n",
              "       [3.81469925e-01],\n",
              "       [3.99582531e-01],\n",
              "       [3.83066276e-01],\n",
              "       [3.69067350e-01],\n",
              "       [3.51323122e-01],\n",
              "       [3.36280449e-01],\n",
              "       [3.37140045e-01],\n",
              "       [3.22711360e-01],\n",
              "       [3.28114472e-01],\n",
              "       [3.32719372e-01],\n",
              "       [3.38736396e-01],\n",
              "       [3.45490249e-01],\n",
              "       [3.37631265e-01],\n",
              "       [3.40639814e-01],\n",
              "       [3.44385118e-01],\n",
              "       [3.52489711e-01],\n",
              "       [3.81961070e-01],\n",
              "       [5.41106450e-01],\n",
              "       [5.11143872e-01],\n",
              "       [4.62086325e-01],\n",
              "       [4.50727573e-01],\n",
              "       [4.39614430e-01],\n",
              "       [4.23957770e-01],\n",
              "       [4.21993043e-01],\n",
              "       [4.09713311e-01],\n",
              "       [3.98047564e-01],\n",
              "       [3.90004280e-01],\n",
              "       [3.78031540e-01],\n",
              "       [4.06029391e-01],\n",
              "       [3.86811579e-01],\n",
              "       [3.85706373e-01],\n",
              "       [3.81961070e-01],\n",
              "       [3.75575594e-01],\n",
              "       [3.70970694e-01],\n",
              "       [3.62436340e-01],\n",
              "       [3.57647214e-01],\n",
              "       [3.46841064e-01],\n",
              "       [3.31859775e-01],\n",
              "       [3.37938258e-01],\n",
              "       [3.57278837e-01],\n",
              "       [3.56787618e-01],\n",
              "       [3.54270288e-01],\n",
              "       [3.76189580e-01],\n",
              "       [3.74961607e-01],\n",
              "       [3.79996342e-01],\n",
              "       [3.74286237e-01],\n",
              "       [3.76803567e-01],\n",
              "       [3.76865026e-01],\n",
              "       [3.71277687e-01],\n",
              "       [3.79750733e-01],\n",
              "       [3.82329447e-01],\n",
              "       [4.02284012e-01],\n",
              "       [3.92153233e-01],\n",
              "       [3.93749658e-01],\n",
              "       [3.85031003e-01],\n",
              "       [4.11923647e-01],\n",
              "       [3.80917322e-01],\n",
              "       [3.80978706e-01],\n",
              "       [3.72751270e-01],\n",
              "       [3.64216841e-01],\n",
              "       [3.64155457e-01],\n",
              "       [3.60164544e-01],\n",
              "       [3.60471538e-01],\n",
              "       [3.63173094e-01],\n",
              "       [3.67716610e-01],\n",
              "       [3.74838840e-01],\n",
              "       [3.65076437e-01],\n",
              "       [3.52366944e-01],\n",
              "       [3.37692648e-01],\n",
              "       [3.29895048e-01],\n",
              "       [3.22711360e-01],\n",
              "       [3.11352607e-01],\n",
              "       [3.02879636e-01],\n",
              "       [2.91705035e-01],\n",
              "       [2.84460037e-01],\n",
              "       [2.77828952e-01],\n",
              "       [2.58918133e-01],\n",
              "       [2.40068774e-01],\n",
              "       [2.20482585e-01],\n",
              "       [2.12930594e-01],\n",
              "       [2.09676435e-01],\n",
              "       [2.21526407e-01],\n",
              "       [1.96414339e-01],\n",
              "       [1.77503521e-01],\n",
              "       [1.77810514e-01],\n",
              "       [1.65592165e-01],\n",
              "       [1.70135681e-01],\n",
              "       [1.70688284e-01],\n",
              "       [2.29569617e-01],\n",
              "       [2.23184141e-01],\n",
              "       [2.11211402e-01],\n",
              "       [2.12623601e-01],\n",
              "       [2.18763467e-01],\n",
              "       [2.13114745e-01],\n",
              "       [2.35156881e-01],\n",
              "       [2.52839726e-01],\n",
              "       [2.58119996e-01],\n",
              "       [2.44919283e-01],\n",
              "       [2.28096034e-01],\n",
              "       [2.44612290e-01],\n",
              "       [2.61128545e-01],\n",
              "       [2.45042050e-01],\n",
              "       [2.42708946e-01],\n",
              "       [2.39270561e-01],\n",
              "       [2.70768105e-01],\n",
              "       [2.83232064e-01],\n",
              "       [2.85074024e-01],\n",
              "       [2.80837501e-01],\n",
              "       [2.86854525e-01],\n",
              "       [2.98090511e-01],\n",
              "       [3.19764269e-01],\n",
              "       [2.97046763e-01],\n",
              "       [2.86363381e-01],\n",
              "       [2.89678924e-01],\n",
              "       [2.89494698e-01],\n",
              "       [2.85626552e-01],\n",
              "       [2.86977367e-01],\n",
              "       [2.87836964e-01],\n",
              "       [2.88450950e-01],\n",
              "       [2.88512334e-01],\n",
              "       [2.91582267e-01],\n",
              "       [2.84030202e-01],\n",
              "       [2.80284898e-01],\n",
              "       [2.81390104e-01],\n",
              "       [2.70890873e-01],\n",
              "       [2.53392254e-01],\n",
              "       [2.46147256e-01],\n",
              "       [2.45287660e-01],\n",
              "       [2.43507084e-01],\n",
              "       [2.43691310e-01],\n",
              "       [2.31595728e-01],\n",
              "       [2.24780492e-01],\n",
              "       [2.13053362e-01],\n",
              "       [2.06299509e-01],\n",
              "       [2.05808290e-01],\n",
              "       [1.95370517e-01],\n",
              "       [1.98133457e-01],\n",
              "       [1.98010689e-01],\n",
              "       [1.84625751e-01],\n",
              "       [1.90274473e-01],\n",
              "       [1.88432513e-01],\n",
              "       [1.93221564e-01],\n",
              "       [1.93160180e-01],\n",
              "       [2.13544581e-01],\n",
              "       [2.04211939e-01],\n",
              "       [2.21833401e-01],\n",
              "       [2.32271173e-01],\n",
              "       [2.45042050e-01],\n",
              "       [2.77706184e-01],\n",
              "       [2.98090511e-01],\n",
              "       [2.91336658e-01],\n",
              "       [2.93731220e-01],\n",
              "       [2.83723208e-01],\n",
              "       [3.20194029e-01],\n",
              "       [3.00730683e-01],\n",
              "       [2.84153044e-01],\n",
              "       [2.87836964e-01],\n",
              "       [2.72487298e-01],\n",
              "       [2.78074561e-01],\n",
              "       [2.70461112e-01],\n",
              "       [2.62417902e-01],\n",
              "       [2.54436076e-01],\n",
              "       [2.52102897e-01],\n",
              "       [2.50997766e-01],\n",
              "       [2.41173980e-01],\n",
              "       [2.58181379e-01],\n",
              "       [2.70276886e-01],\n",
              "       [2.71934695e-01],\n",
              "       [2.96002941e-01],\n",
              "       [2.87959731e-01],\n",
              "       [2.90231452e-01],\n",
              "       [2.88880711e-01],\n",
              "       [2.81205878e-01],\n",
              "       [2.75311621e-01],\n",
              "       [2.80346282e-01],\n",
              "       [2.85381017e-01],\n",
              "       [2.65119458e-01],\n",
              "       [2.42340494e-01],\n",
              "       [2.43752693e-01],\n",
              "       [2.35341107e-01],\n",
              "       [2.44612290e-01],\n",
              "       [2.39823164e-01],\n",
              "       [2.40559993e-01],\n",
              "       [2.42156343e-01],\n",
              "       [2.40498534e-01],\n",
              "       [2.40682760e-01],\n",
              "       [2.40437151e-01],\n",
              "       [2.39025026e-01],\n",
              "       [2.39761780e-01],\n",
              "       [2.37919820e-01],\n",
              "       [2.37674211e-01],\n",
              "       [2.41542357e-01],\n",
              "       [2.40682760e-01],\n",
              "       [2.39946006e-01],\n",
              "       [2.23491135e-01],\n",
              "       [2.12009615e-01],\n",
              "       [2.00835013e-01],\n",
              "       [1.85546731e-01],\n",
              "       [1.91563830e-01],\n",
              "       [1.91686597e-01],\n",
              "       [1.89476260e-01],\n",
              "       [2.00159643e-01],\n",
              "       [1.93651399e-01],\n",
              "       [2.19438838e-01],\n",
              "       [2.12746369e-01],\n",
              "       [2.20850962e-01],\n",
              "       [2.31718570e-01],\n",
              "       [2.25640088e-01],\n",
              "       [2.09676435e-01],\n",
              "       [2.04580316e-01],\n",
              "       [2.03168192e-01],\n",
              "       [2.11150018e-01],\n",
              "       [2.17105659e-01],\n",
              "       [2.10167655e-01],\n",
              "       [2.09737819e-01],\n",
              "       [2.03536569e-01],\n",
              "       [2.08571229e-01],\n",
              "       [2.21956168e-01],\n",
              "       [2.38411040e-01],\n",
              "       [2.77276349e-01],\n",
              "       [2.67145569e-01],\n",
              "       [2.53883473e-01],\n",
              "       [2.78013178e-01],\n",
              "       [3.08344057e-01],\n",
              "       [2.99318484e-01],\n",
              "       [3.07791529e-01],\n",
              "       [3.27439102e-01],\n",
              "       [3.39964369e-01],\n",
              "       [3.38736396e-01],\n",
              "       [3.24983155e-01],\n",
              "       [3.27500485e-01],\n",
              "       [3.27684636e-01],\n",
              "       [3.07177543e-01],\n",
              "       [2.78811315e-01],\n",
              "       [2.64566855e-01],\n",
              "       [2.75679998e-01],\n",
              "       [2.65733445e-01],\n",
              "       [2.60330333e-01],\n",
              "       [2.71259325e-01],\n",
              "       [2.71136482e-01],\n",
              "       [2.95818790e-01],\n",
              "       [2.89433314e-01],\n",
              "       [2.99379868e-01],\n",
              "       [2.79977905e-01],\n",
              "       [2.83170605e-01],\n",
              "       [2.82802228e-01],\n",
              "       [2.87407128e-01],\n",
              "       [2.89924458e-01],\n",
              "       [2.93362843e-01],\n",
              "       [3.17185480e-01],\n",
              "       [3.77110560e-01],\n",
              "       [3.69926947e-01],\n",
              "       [3.48253189e-01],\n",
              "       [3.76496574e-01],\n",
              "       [3.67164007e-01],\n",
              "       [3.72812654e-01],\n",
              "       [3.67655226e-01],\n",
              "       [3.39104848e-01],\n",
              "       [3.43586905e-01],\n",
              "       [3.52612554e-01],\n",
              "       [3.97801955e-01],\n",
              "       [4.03450602e-01],\n",
              "       [3.99152695e-01],\n",
              "       [3.90556883e-01],\n",
              "       [3.73610866e-01],\n",
              "       [3.97924722e-01],\n",
              "       [3.98231715e-01],\n",
              "       [3.86258976e-01],\n",
              "       [3.72567119e-01],\n",
              "       [3.67777993e-01],\n",
              "       [3.63234477e-01],\n",
              "       [3.61638127e-01],\n",
              "       [3.63111710e-01],\n",
              "       [3.70970694e-01],\n",
              "       [3.63971306e-01],\n",
              "       [3.59673400e-01],\n",
              "       [3.55559644e-01],\n",
              "       [3.52612554e-01],\n",
              "       [3.37999642e-01],\n",
              "       [3.43341295e-01],\n",
              "       [3.45060488e-01],\n",
              "       [3.44937721e-01],\n",
              "       [3.43095761e-01],\n",
              "       [3.36771668e-01],\n",
              "       [3.30017816e-01],\n",
              "       [3.22404366e-01],\n",
              "       [3.14606766e-01],\n",
              "       [3.01283211e-01],\n",
              "       [3.02020040e-01],\n",
              "       [2.90906897e-01],\n",
              "       [3.00607841e-01],\n",
              "       [2.91213890e-01],\n",
              "       [3.08589667e-01],\n",
              "       [3.08405516e-01],\n",
              "       [3.08159906e-01],\n",
              "       [3.14361156e-01],\n",
              "       [3.16387342e-01],\n",
              "       [3.07300310e-01],\n",
              "       [3.13931396e-01],\n",
              "       [3.14729533e-01],\n",
              "       [3.14361156e-01],\n",
              "       [3.15834739e-01],\n",
              "       [3.98108948e-01],\n",
              "       [4.66077238e-01],\n",
              "       [4.58218255e-01],\n",
              "       [4.48455852e-01],\n",
              "       [4.23343784e-01],\n",
              "       [4.00871888e-01],\n",
              "       [4.85786194e-01],\n",
              "       [4.64296662e-01],\n",
              "       [4.59998756e-01],\n",
              "       [4.58770783e-01],\n",
              "       [4.37404093e-01],\n",
              "       [4.33351796e-01],\n",
              "       [4.26597943e-01],\n",
              "       [4.12169257e-01],\n",
              "       [3.98907086e-01],\n",
              "       [3.69374344e-01],\n",
              "       [3.73058264e-01],\n",
              "       [4.08792331e-01],\n",
              "       [3.95468776e-01],\n",
              "       [3.65690424e-01],\n",
              "       [3.63971306e-01],\n",
              "       [3.56480624e-01],\n",
              "       [3.64339683e-01],\n",
              "       [3.46963832e-01],\n",
              "       [3.30938795e-01],\n",
              "       [3.00914834e-01],\n",
              "       [2.77030739e-01],\n",
              "       [3.25535683e-01],\n",
              "       [3.15650513e-01],\n",
              "       [2.86977367e-01],\n",
              "       [2.88512334e-01],\n",
              "       [2.77644726e-01],\n",
              "       [3.04046151e-01],\n",
              "       [2.53944857e-01],\n",
              "       [2.26929445e-01],\n",
              "       [2.36569080e-01],\n",
              "       [2.06299509e-01],\n",
              "       [2.03106808e-01],\n",
              "       [1.74801965e-01],\n",
              "       [1.38638212e-01],\n",
              "       [1.34708682e-01],\n",
              "       [7.32486354e-02],\n",
              "       [6.74771460e-02],\n",
              "       [9.89746153e-02],\n",
              "       [9.09314054e-02],\n",
              "       [8.65721153e-02],\n",
              "       [9.47381675e-02],\n",
              "       [1.05482934e-01],\n",
              "       [2.64014252e-02],\n",
              "       [0.00000000e+00],\n",
              "       [3.06993317e-04],\n",
              "       [2.21035188e-02],\n",
              "       [5.63640029e-02],\n",
              "       [4.08914948e-02],\n",
              "       [5.04082876e-02],\n",
              "       [6.63719401e-02],\n",
              "       [6.17670403e-02],\n",
              "       [6.80911326e-02],\n",
              "       [8.19672156e-02],\n",
              "       [8.47301554e-02],\n",
              "       [1.03211138e-01],\n",
              "       [9.36943453e-02],\n",
              "       [1.02167391e-01],\n",
              "       [9.89132317e-02],\n",
              "       [1.05298708e-01],\n",
              "       [8.26425859e-02],\n",
              "       [7.55203559e-02],\n",
              "       [7.90815084e-02],\n",
              "       [6.60035631e-02],\n",
              "       [6.00479227e-02],\n",
              "       [4.96715336e-02],\n",
              "       [5.74691339e-02],\n",
              "       [5.88199495e-02],\n",
              "       [3.75145683e-02],\n",
              "       [3.01467287e-02],\n",
              "       [3.16203116e-02],\n",
              "       [3.96635215e-02],\n",
              "       [2.77522033e-02],\n",
              "       [2.14281485e-02],\n",
              "       [1.73758142e-02],\n",
              "       [3.32780830e-02],\n",
              "       [2.31473036e-02],\n",
              "       [5.38465978e-02],\n",
              "       [8.38091755e-02],\n",
              "       [5.94953198e-02],\n",
              "       [6.29950136e-02],\n",
              "       [6.77841393e-02],\n",
              "       [6.81525163e-02],\n",
              "       [6.36703839e-02],\n",
              "       [6.13986633e-02],\n",
              "       [9.36943453e-02],\n",
              "       [9.44311742e-02],\n",
              "       [1.00264047e-01],\n",
              "       [1.05544317e-01],\n",
              "       [1.28998577e-01],\n",
              "       [1.46497196e-01],\n",
              "       [1.86467711e-01],\n",
              "       [2.22017552e-01],\n",
              "       [2.16675898e-01],\n",
              "       [2.16430288e-01],\n",
              "       [2.25087485e-01],\n",
              "       [2.16430288e-01],\n",
              "       [2.20052824e-01],\n",
              "       [2.86977367e-01],\n",
              "       [2.81267262e-01],\n",
              "       [2.87100135e-01],\n",
              "       [2.80960268e-01],\n",
              "       [2.86854525e-01],\n",
              "       [2.85933545e-01],\n",
              "       [2.69417365e-01],\n",
              "       [3.84232865e-01],\n",
              "       [3.46902448e-01],\n",
              "       [3.46595455e-01],\n",
              "       [3.59673400e-01],\n",
              "       [3.49297011e-01],\n",
              "       [3.63541471e-01],\n",
              "       [4.58218255e-01],\n",
              "       [5.82857541e-01],\n",
              "       [6.14968997e-01],\n",
              "       [5.72296926e-01],\n",
              "       [5.53324724e-01],\n",
              "       [5.68735849e-01],\n",
              "       [5.52894963e-01],\n",
              "       [5.22625392e-01],\n",
              "       [4.77190382e-01],\n",
              "       [4.46613892e-01],\n",
              "       [5.62411756e-01],\n",
              "       [5.45404357e-01],\n",
              "       [5.35212118e-01],\n",
              "       [5.27168909e-01],\n",
              "       [5.55535136e-01],\n",
              "       [5.28581108e-01],\n",
              "       [5.05004006e-01],\n",
              "       [5.20722049e-01],\n",
              "       [5.27905737e-01],\n",
              "       [4.91987519e-01],\n",
              "       [4.82839104e-01],\n",
              "       [5.09424680e-01],\n",
              "       [5.78314025e-01],\n",
              "       [5.96856391e-01],\n",
              "       [5.99496564e-01],\n",
              "       [5.77393045e-01],\n",
              "       [6.77902702e-01],\n",
              "       [6.62982797e-01],\n",
              "       [7.61097891e-01],\n",
              "       [9.94289894e-01],\n",
              "       [1.00000000e+00],\n",
              "       [9.46951615e-01],\n",
              "       [9.79001687e-01],\n",
              "       [9.62424048e-01],\n",
              "       [8.92859332e-01],\n",
              "       [8.99183425e-01],\n",
              "       [8.81377812e-01],\n",
              "       [8.51844995e-01],\n",
              "       [8.57555101e-01],\n",
              "       [6.52729175e-01],\n",
              "       [6.52483565e-01],\n",
              "       [5.48781283e-01],\n",
              "       [5.07030192e-01],\n",
              "       [5.09670289e-01],\n",
              "       [5.48105838e-01],\n",
              "       [5.30177458e-01],\n",
              "       [5.06907350e-01],\n",
              "       [4.79462177e-01],\n",
              "       [4.41579157e-01],\n",
              "       [4.73076701e-01],\n",
              "       [4.58279638e-01],\n",
              "       [4.35746284e-01],\n",
              "       [4.46061289e-01],\n",
              "       [4.44035103e-01],\n",
              "       [4.30711623e-01],\n",
              "       [4.45324535e-01],\n",
              "       [3.92890062e-01],\n",
              "       [3.63541471e-01],\n",
              "       [3.58261201e-01],\n",
              "       [3.67962219e-01],\n",
              "       [3.54208904e-01],\n",
              "       [3.67102623e-01],\n",
              "       [3.73242489e-01],\n",
              "       [4.01363032e-01],\n",
              "       [3.93074213e-01],\n",
              "       [4.19291487e-01],\n",
              "       [4.20151083e-01],\n",
              "       [4.05599555e-01],\n",
              "       [3.91846240e-01],\n",
              "       [3.76251039e-01],\n",
              "       [3.55743870e-01],\n",
              "       [3.39288999e-01],\n",
              "       [3.55682487e-01],\n",
              "       [3.27254876e-01],\n",
              "       [3.24369168e-01],\n",
              "       [3.21974606e-01],\n",
              "       [2.92626015e-01],\n",
              "       [2.69540132e-01],\n",
              "       [3.02327033e-01],\n",
              "       [2.93117234e-01],\n",
              "       [2.73285436e-01],\n",
              "       [2.71566318e-01],\n",
              "       [2.72610065e-01],\n",
              "       [2.65180842e-01],\n",
              "       [2.55234214e-01],\n",
              "       [2.40314383e-01],\n",
              "       [2.37490060e-01],\n",
              "       [2.23061374e-01],\n",
              "       [2.71934695e-01],\n",
              "       [2.73960806e-01],\n",
              "       [2.93915371e-01],\n",
              "       [3.05274124e-01],\n",
              "       [3.09572031e-01],\n",
              "       [3.39350382e-01],\n",
              "       [3.45797242e-01],\n",
              "       [3.68821741e-01],\n",
              "       [3.54884274e-01],\n",
              "       [3.62252114e-01],\n",
              "       [3.59734784e-01],\n",
              "       [3.59673400e-01],\n",
              "       [3.83066276e-01],\n",
              "       [4.06704761e-01]])"
            ]
          },
          "metadata": {
            "tags": []
          },
          "execution_count": 253
        }
      ],
      "metadata": {
        "colab": {
          "base_uri": "https://localhost:8080/"
        },
        "id": "cxV0oy15rt57",
        "outputId": "3b2469e9-46ef-491b-e04d-d0b229bad6de"
      }
    },
    {
      "cell_type": "code",
      "execution_count": null,
      "source": [
        "sk1.shape"
      ],
      "outputs": [
        {
          "output_type": "execute_result",
          "data": {
            "text/plain": [
              "(654, 1)"
            ]
          },
          "metadata": {
            "tags": []
          },
          "execution_count": 254
        }
      ],
      "metadata": {
        "id": "NdiWPufePuGn",
        "colab": {
          "base_uri": "https://localhost:8080/"
        },
        "outputId": "77f24e5e-ef7e-43c6-945f-f45684a719ec"
      }
    },
    {
      "cell_type": "code",
      "execution_count": null,
      "source": [
        "training_size=int(len(sk1)*0.70)\n",
        "test_size=len(sk1)-training_size\n",
        "train_data,test_data=sk1[0:training_size,:],sk1[training_size:len(sk1),:1]"
      ],
      "outputs": [],
      "metadata": {
        "id": "4NF33SJUPwCV"
      }
    },
    {
      "cell_type": "code",
      "execution_count": null,
      "source": [
        "training_size,test_size"
      ],
      "outputs": [
        {
          "output_type": "execute_result",
          "data": {
            "text/plain": [
              "(457, 197)"
            ]
          },
          "metadata": {
            "tags": []
          },
          "execution_count": 256
        }
      ],
      "metadata": {
        "colab": {
          "base_uri": "https://localhost:8080/"
        },
        "id": "A_ATQP24sNuY",
        "outputId": "87959956-8c03-4887-ea4f-1db413277626"
      }
    },
    {
      "cell_type": "code",
      "execution_count": null,
      "source": [
        "def create_dataset(dataset,time_step=1):\n",
        "    dataX, dataY = [],[]\n",
        "    for i in range(len(dataset)-time_step-1):\n",
        "        a=dataset[i:(i+time_step),0]\n",
        "        dataX.append(a)\n",
        "        dataY.append(dataset[i+time_step,0])\n",
        "    return np.array(dataX),np.array(dataY)"
      ],
      "outputs": [],
      "metadata": {
        "id": "zEXeXlo6QlXx"
      }
    },
    {
      "cell_type": "code",
      "execution_count": null,
      "source": [
        "time_step=100\n",
        "x_train,y_train = create_dataset(train_data,time_step)\n",
        "x_test,y_test = create_dataset(test_data,time_step)"
      ],
      "outputs": [],
      "metadata": {
        "id": "ynWZNkN0R931"
      }
    },
    {
      "cell_type": "code",
      "execution_count": null,
      "source": [
        "print(x_train.shape),print(y_train.shape)"
      ],
      "outputs": [
        {
          "output_type": "stream",
          "name": "stdout",
          "text": [
            "(356, 100)\n",
            "(356,)\n"
          ]
        },
        {
          "output_type": "execute_result",
          "data": {
            "text/plain": [
              "(None, None)"
            ]
          },
          "metadata": {
            "tags": []
          },
          "execution_count": 259
        }
      ],
      "metadata": {
        "id": "ZAjhVVusSfdi",
        "colab": {
          "base_uri": "https://localhost:8080/"
        },
        "outputId": "39596bd9-9d25-4e9e-cfdb-8ae7ca59a4d1"
      }
    },
    {
      "cell_type": "code",
      "execution_count": null,
      "source": [
        "print(x_test.shape),print(y_test.shape)"
      ],
      "outputs": [
        {
          "output_type": "stream",
          "name": "stdout",
          "text": [
            "(96, 100)\n",
            "(96,)\n"
          ]
        },
        {
          "output_type": "execute_result",
          "data": {
            "text/plain": [
              "(None, None)"
            ]
          },
          "metadata": {
            "tags": []
          },
          "execution_count": 260
        }
      ],
      "metadata": {
        "colab": {
          "base_uri": "https://localhost:8080/"
        },
        "id": "xSGWdbvSqOmG",
        "outputId": "2e4e08e8-561d-48c3-b1cf-1b963212903e"
      }
    },
    {
      "cell_type": "code",
      "execution_count": null,
      "source": [
        "from tensorflow.keras.models import Sequential\n",
        "from tensorflow.keras.layers import Dense\n",
        "from tensorflow.keras.layers import LSTM"
      ],
      "outputs": [],
      "metadata": {
        "id": "_xMWiJ2NShFW"
      }
    },
    {
      "cell_type": "code",
      "execution_count": null,
      "source": [
        "model=Sequential()\n",
        "model.add(LSTM(50,return_sequences=True,input_shape=(100,1)))\n",
        "model.add(LSTM(50,return_sequences=True))\n",
        "model.add(LSTM(50))\n",
        "model.add(Dense(1))\n",
        "model.compile(loss='mean_squared_error',optimizer='adam')"
      ],
      "outputs": [],
      "metadata": {
        "id": "Z8hUtZEtTAKA"
      }
    },
    {
      "cell_type": "code",
      "execution_count": null,
      "source": [
        "model.summary()"
      ],
      "outputs": [
        {
          "output_type": "stream",
          "name": "stdout",
          "text": [
            "Model: \"sequential_7\"\n",
            "_________________________________________________________________\n",
            "Layer (type)                 Output Shape              Param #   \n",
            "=================================================================\n",
            "lstm_15 (LSTM)               (None, 100, 50)           10400     \n",
            "_________________________________________________________________\n",
            "lstm_16 (LSTM)               (None, 100, 50)           20200     \n",
            "_________________________________________________________________\n",
            "lstm_17 (LSTM)               (None, 50)                20200     \n",
            "_________________________________________________________________\n",
            "dense_7 (Dense)              (None, 1)                 51        \n",
            "=================================================================\n",
            "Total params: 50,851\n",
            "Trainable params: 50,851\n",
            "Non-trainable params: 0\n",
            "_________________________________________________________________\n"
          ]
        }
      ],
      "metadata": {
        "id": "MpkUgLP2UKCK",
        "colab": {
          "base_uri": "https://localhost:8080/"
        },
        "outputId": "62b66eb0-282a-4ed9-8475-6ae1589d9ef8"
      }
    },
    {
      "cell_type": "code",
      "execution_count": null,
      "source": [
        "x_train.shape[1]"
      ],
      "outputs": [
        {
          "output_type": "execute_result",
          "data": {
            "text/plain": [
              "100"
            ]
          },
          "metadata": {
            "tags": []
          },
          "execution_count": 264
        }
      ],
      "metadata": {
        "id": "8UwPhmRbWApo",
        "colab": {
          "base_uri": "https://localhost:8080/"
        },
        "outputId": "f4f267d8-045d-44f8-ab7c-164c0a0d96f8"
      }
    },
    {
      "cell_type": "code",
      "execution_count": null,
      "source": [
        "x_train=x_train.reshape(x_train.shape[0],x_train.shape[1],1)\n",
        "x_test=x_test.reshape(x_test.shape[0],x_test.shape[1],1)"
      ],
      "outputs": [],
      "metadata": {
        "id": "QUJgS6FBUTjV"
      }
    },
    {
      "cell_type": "code",
      "execution_count": null,
      "source": [
        "model.fit(x_train,y_train,validation_data=(x_test,y_test),epochs=100,batch_size=64,verbose=1)"
      ],
      "outputs": [
        {
          "output_type": "stream",
          "name": "stdout",
          "text": [
            "Epoch 1/100\n",
            "6/6 [==============================] - 1s 160ms/step - loss: 0.0601 - val_loss: 0.0294\n",
            "Epoch 2/100\n",
            "6/6 [==============================] - 0s 19ms/step - loss: 0.0107 - val_loss: 0.0364\n",
            "Epoch 3/100\n",
            "6/6 [==============================] - 0s 19ms/step - loss: 0.0073 - val_loss: 0.0435\n",
            "Epoch 4/100\n",
            "6/6 [==============================] - 0s 18ms/step - loss: 0.0040 - val_loss: 0.0250\n",
            "Epoch 5/100\n",
            "6/6 [==============================] - 0s 17ms/step - loss: 0.0044 - val_loss: 0.0285\n",
            "Epoch 6/100\n",
            "6/6 [==============================] - 0s 17ms/step - loss: 0.0034 - val_loss: 0.0339\n",
            "Epoch 7/100\n",
            "6/6 [==============================] - 0s 18ms/step - loss: 0.0033 - val_loss: 0.0269\n",
            "Epoch 8/100\n",
            "6/6 [==============================] - 0s 19ms/step - loss: 0.0031 - val_loss: 0.0262\n",
            "Epoch 9/100\n",
            "6/6 [==============================] - 0s 19ms/step - loss: 0.0029 - val_loss: 0.0284\n",
            "Epoch 10/100\n",
            "6/6 [==============================] - 0s 18ms/step - loss: 0.0029 - val_loss: 0.0264\n",
            "Epoch 11/100\n",
            "6/6 [==============================] - 0s 18ms/step - loss: 0.0027 - val_loss: 0.0247\n",
            "Epoch 12/100\n",
            "6/6 [==============================] - 0s 18ms/step - loss: 0.0026 - val_loss: 0.0256\n",
            "Epoch 13/100\n",
            "6/6 [==============================] - 0s 18ms/step - loss: 0.0026 - val_loss: 0.0241\n",
            "Epoch 14/100\n",
            "6/6 [==============================] - 0s 17ms/step - loss: 0.0025 - val_loss: 0.0238\n",
            "Epoch 15/100\n",
            "6/6 [==============================] - 0s 16ms/step - loss: 0.0025 - val_loss: 0.0234\n",
            "Epoch 16/100\n",
            "6/6 [==============================] - 0s 18ms/step - loss: 0.0024 - val_loss: 0.0230\n",
            "Epoch 17/100\n",
            "6/6 [==============================] - 0s 18ms/step - loss: 0.0024 - val_loss: 0.0227\n",
            "Epoch 18/100\n",
            "6/6 [==============================] - 0s 18ms/step - loss: 0.0024 - val_loss: 0.0224\n",
            "Epoch 19/100\n",
            "6/6 [==============================] - 0s 19ms/step - loss: 0.0023 - val_loss: 0.0221\n",
            "Epoch 20/100\n",
            "6/6 [==============================] - 0s 18ms/step - loss: 0.0023 - val_loss: 0.0218\n",
            "Epoch 21/100\n",
            "6/6 [==============================] - 0s 18ms/step - loss: 0.0023 - val_loss: 0.0217\n",
            "Epoch 22/100\n",
            "6/6 [==============================] - 0s 18ms/step - loss: 0.0023 - val_loss: 0.0212\n",
            "Epoch 23/100\n",
            "6/6 [==============================] - 0s 18ms/step - loss: 0.0023 - val_loss: 0.0213\n",
            "Epoch 24/100\n",
            "6/6 [==============================] - 0s 17ms/step - loss: 0.0023 - val_loss: 0.0205\n",
            "Epoch 25/100\n",
            "6/6 [==============================] - 0s 16ms/step - loss: 0.0022 - val_loss: 0.0206\n",
            "Epoch 26/100\n",
            "6/6 [==============================] - 0s 17ms/step - loss: 0.0022 - val_loss: 0.0199\n",
            "Epoch 27/100\n",
            "6/6 [==============================] - 0s 17ms/step - loss: 0.0022 - val_loss: 0.0199\n",
            "Epoch 28/100\n",
            "6/6 [==============================] - 0s 17ms/step - loss: 0.0022 - val_loss: 0.0193\n",
            "Epoch 29/100\n",
            "6/6 [==============================] - 0s 17ms/step - loss: 0.0021 - val_loss: 0.0193\n",
            "Epoch 30/100\n",
            "6/6 [==============================] - 0s 17ms/step - loss: 0.0021 - val_loss: 0.0184\n",
            "Epoch 31/100\n",
            "6/6 [==============================] - 0s 17ms/step - loss: 0.0021 - val_loss: 0.0185\n",
            "Epoch 32/100\n",
            "6/6 [==============================] - 0s 17ms/step - loss: 0.0021 - val_loss: 0.0188\n",
            "Epoch 33/100\n",
            "6/6 [==============================] - 0s 17ms/step - loss: 0.0021 - val_loss: 0.0177\n",
            "Epoch 34/100\n",
            "6/6 [==============================] - 0s 17ms/step - loss: 0.0020 - val_loss: 0.0174\n",
            "Epoch 35/100\n",
            "6/6 [==============================] - 0s 18ms/step - loss: 0.0020 - val_loss: 0.0168\n",
            "Epoch 36/100\n",
            "6/6 [==============================] - 0s 17ms/step - loss: 0.0020 - val_loss: 0.0181\n",
            "Epoch 37/100\n",
            "6/6 [==============================] - 0s 17ms/step - loss: 0.0020 - val_loss: 0.0161\n",
            "Epoch 38/100\n",
            "6/6 [==============================] - 0s 17ms/step - loss: 0.0020 - val_loss: 0.0164\n",
            "Epoch 39/100\n",
            "6/6 [==============================] - 0s 17ms/step - loss: 0.0020 - val_loss: 0.0164\n",
            "Epoch 40/100\n",
            "6/6 [==============================] - 0s 17ms/step - loss: 0.0020 - val_loss: 0.0151\n",
            "Epoch 41/100\n",
            "6/6 [==============================] - 0s 17ms/step - loss: 0.0020 - val_loss: 0.0160\n",
            "Epoch 42/100\n",
            "6/6 [==============================] - 0s 17ms/step - loss: 0.0019 - val_loss: 0.0147\n",
            "Epoch 43/100\n",
            "6/6 [==============================] - 0s 17ms/step - loss: 0.0018 - val_loss: 0.0141\n",
            "Epoch 44/100\n",
            "6/6 [==============================] - 0s 17ms/step - loss: 0.0018 - val_loss: 0.0144\n",
            "Epoch 45/100\n",
            "6/6 [==============================] - 0s 16ms/step - loss: 0.0018 - val_loss: 0.0136\n",
            "Epoch 46/100\n",
            "6/6 [==============================] - 0s 17ms/step - loss: 0.0017 - val_loss: 0.0131\n",
            "Epoch 47/100\n",
            "6/6 [==============================] - 0s 17ms/step - loss: 0.0017 - val_loss: 0.0130\n",
            "Epoch 48/100\n",
            "6/6 [==============================] - 0s 17ms/step - loss: 0.0017 - val_loss: 0.0136\n",
            "Epoch 49/100\n",
            "6/6 [==============================] - 0s 17ms/step - loss: 0.0017 - val_loss: 0.0119\n",
            "Epoch 50/100\n",
            "6/6 [==============================] - 0s 17ms/step - loss: 0.0016 - val_loss: 0.0117\n",
            "Epoch 51/100\n",
            "6/6 [==============================] - 0s 17ms/step - loss: 0.0015 - val_loss: 0.0110\n",
            "Epoch 52/100\n",
            "6/6 [==============================] - 0s 17ms/step - loss: 0.0016 - val_loss: 0.0106\n",
            "Epoch 53/100\n",
            "6/6 [==============================] - 0s 17ms/step - loss: 0.0015 - val_loss: 0.0102\n",
            "Epoch 54/100\n",
            "6/6 [==============================] - 0s 17ms/step - loss: 0.0016 - val_loss: 0.0101\n",
            "Epoch 55/100\n",
            "6/6 [==============================] - 0s 17ms/step - loss: 0.0015 - val_loss: 0.0102\n",
            "Epoch 56/100\n",
            "6/6 [==============================] - 0s 17ms/step - loss: 0.0015 - val_loss: 0.0090\n",
            "Epoch 57/100\n",
            "6/6 [==============================] - 0s 18ms/step - loss: 0.0014 - val_loss: 0.0086\n",
            "Epoch 58/100\n",
            "6/6 [==============================] - 0s 18ms/step - loss: 0.0013 - val_loss: 0.0084\n",
            "Epoch 59/100\n",
            "6/6 [==============================] - 0s 19ms/step - loss: 0.0013 - val_loss: 0.0084\n",
            "Epoch 60/100\n",
            "6/6 [==============================] - 0s 20ms/step - loss: 0.0013 - val_loss: 0.0084\n",
            "Epoch 61/100\n",
            "6/6 [==============================] - 0s 18ms/step - loss: 0.0013 - val_loss: 0.0075\n",
            "Epoch 62/100\n",
            "6/6 [==============================] - 0s 17ms/step - loss: 0.0013 - val_loss: 0.0074\n",
            "Epoch 63/100\n",
            "6/6 [==============================] - 0s 17ms/step - loss: 0.0012 - val_loss: 0.0072\n",
            "Epoch 64/100\n",
            "6/6 [==============================] - 0s 17ms/step - loss: 0.0012 - val_loss: 0.0069\n",
            "Epoch 65/100\n",
            "6/6 [==============================] - 0s 17ms/step - loss: 0.0013 - val_loss: 0.0068\n",
            "Epoch 66/100\n",
            "6/6 [==============================] - 0s 17ms/step - loss: 0.0012 - val_loss: 0.0066\n",
            "Epoch 67/100\n",
            "6/6 [==============================] - 0s 17ms/step - loss: 0.0011 - val_loss: 0.0065\n",
            "Epoch 68/100\n",
            "6/6 [==============================] - 0s 16ms/step - loss: 0.0012 - val_loss: 0.0067\n",
            "Epoch 69/100\n",
            "6/6 [==============================] - 0s 17ms/step - loss: 0.0013 - val_loss: 0.0071\n",
            "Epoch 70/100\n",
            "6/6 [==============================] - 0s 17ms/step - loss: 0.0012 - val_loss: 0.0064\n",
            "Epoch 71/100\n",
            "6/6 [==============================] - 0s 17ms/step - loss: 0.0011 - val_loss: 0.0060\n",
            "Epoch 72/100\n",
            "6/6 [==============================] - 0s 18ms/step - loss: 0.0010 - val_loss: 0.0060\n",
            "Epoch 73/100\n",
            "6/6 [==============================] - 0s 18ms/step - loss: 0.0010 - val_loss: 0.0059\n",
            "Epoch 74/100\n",
            "6/6 [==============================] - 0s 18ms/step - loss: 0.0010 - val_loss: 0.0057\n",
            "Epoch 75/100\n",
            "6/6 [==============================] - 0s 18ms/step - loss: 9.9314e-04 - val_loss: 0.0056\n",
            "Epoch 76/100\n",
            "6/6 [==============================] - 0s 18ms/step - loss: 0.0011 - val_loss: 0.0057\n",
            "Epoch 77/100\n",
            "6/6 [==============================] - 0s 18ms/step - loss: 9.8411e-04 - val_loss: 0.0059\n",
            "Epoch 78/100\n",
            "6/6 [==============================] - 0s 18ms/step - loss: 0.0010 - val_loss: 0.0062\n",
            "Epoch 79/100\n",
            "6/6 [==============================] - 0s 18ms/step - loss: 0.0011 - val_loss: 0.0059\n",
            "Epoch 80/100\n",
            "6/6 [==============================] - 0s 17ms/step - loss: 9.4827e-04 - val_loss: 0.0055\n",
            "Epoch 81/100\n",
            "6/6 [==============================] - 0s 18ms/step - loss: 9.2336e-04 - val_loss: 0.0055\n",
            "Epoch 82/100\n",
            "6/6 [==============================] - 0s 17ms/step - loss: 9.5023e-04 - val_loss: 0.0060\n",
            "Epoch 83/100\n",
            "6/6 [==============================] - 0s 17ms/step - loss: 9.8957e-04 - val_loss: 0.0054\n",
            "Epoch 84/100\n",
            "6/6 [==============================] - 0s 18ms/step - loss: 9.0127e-04 - val_loss: 0.0053\n",
            "Epoch 85/100\n",
            "6/6 [==============================] - 0s 17ms/step - loss: 8.8251e-04 - val_loss: 0.0053\n",
            "Epoch 86/100\n",
            "6/6 [==============================] - 0s 17ms/step - loss: 9.8038e-04 - val_loss: 0.0053\n",
            "Epoch 87/100\n",
            "6/6 [==============================] - 0s 17ms/step - loss: 9.6025e-04 - val_loss: 0.0052\n",
            "Epoch 88/100\n",
            "6/6 [==============================] - 0s 18ms/step - loss: 8.7803e-04 - val_loss: 0.0056\n",
            "Epoch 89/100\n",
            "6/6 [==============================] - 0s 18ms/step - loss: 9.6097e-04 - val_loss: 0.0059\n",
            "Epoch 90/100\n",
            "6/6 [==============================] - 0s 18ms/step - loss: 0.0010 - val_loss: 0.0053\n",
            "Epoch 91/100\n",
            "6/6 [==============================] - 0s 18ms/step - loss: 0.0012 - val_loss: 0.0051\n",
            "Epoch 92/100\n",
            "6/6 [==============================] - 0s 17ms/step - loss: 8.8216e-04 - val_loss: 0.0051\n",
            "Epoch 93/100\n",
            "6/6 [==============================] - 0s 17ms/step - loss: 8.7306e-04 - val_loss: 0.0050\n",
            "Epoch 94/100\n",
            "6/6 [==============================] - 0s 17ms/step - loss: 8.4006e-04 - val_loss: 0.0051\n",
            "Epoch 95/100\n",
            "6/6 [==============================] - 0s 17ms/step - loss: 9.9178e-04 - val_loss: 0.0050\n",
            "Epoch 96/100\n",
            "6/6 [==============================] - 0s 19ms/step - loss: 8.8486e-04 - val_loss: 0.0048\n",
            "Epoch 97/100\n",
            "6/6 [==============================] - 0s 17ms/step - loss: 8.2048e-04 - val_loss: 0.0055\n",
            "Epoch 98/100\n",
            "6/6 [==============================] - 0s 18ms/step - loss: 9.2666e-04 - val_loss: 0.0050\n",
            "Epoch 99/100\n",
            "6/6 [==============================] - 0s 17ms/step - loss: 8.8714e-04 - val_loss: 0.0047\n",
            "Epoch 100/100\n",
            "6/6 [==============================] - 0s 18ms/step - loss: 8.3625e-04 - val_loss: 0.0047\n"
          ]
        },
        {
          "output_type": "execute_result",
          "data": {
            "text/plain": [
              "<tensorflow.python.keras.callbacks.History at 0x7f9b8b442d68>"
            ]
          },
          "metadata": {
            "tags": []
          },
          "execution_count": 266
        }
      ],
      "metadata": {
        "id": "HrBKHgRoUYGe",
        "colab": {
          "base_uri": "https://localhost:8080/"
        },
        "outputId": "068e5e94-19ee-4f10-ab05-137a4a02f6ef"
      }
    },
    {
      "cell_type": "code",
      "execution_count": null,
      "source": [
        "train_predict=model.predict(x_train)\n",
        "test_predict=model.predict(x_test)"
      ],
      "outputs": [],
      "metadata": {
        "id": "pdAa4VqUZqdp"
      }
    },
    {
      "cell_type": "code",
      "execution_count": null,
      "source": [
        "train_predict=scaler.inverse_transform(train_predict)\n",
        "test_predict=scaler.inverse_transform(test_predict)"
      ],
      "outputs": [],
      "metadata": {
        "id": "UCRAPKZ6Z2BT"
      }
    },
    {
      "cell_type": "code",
      "execution_count": null,
      "source": [
        "import math\n",
        "from sklearn.metrics import mean_squared_error\n",
        "math.sqrt(mean_squared_error(y_train,train_predict))"
      ],
      "outputs": [
        {
          "output_type": "execute_result",
          "data": {
            "text/plain": [
              "741.8084008058551"
            ]
          },
          "metadata": {
            "tags": []
          },
          "execution_count": 269
        }
      ],
      "metadata": {
        "id": "YUyQC9FEaFSY",
        "colab": {
          "base_uri": "https://localhost:8080/"
        },
        "outputId": "ff17b60b-6f50-4617-a614-e3ecbac909d1"
      }
    },
    {
      "cell_type": "code",
      "execution_count": null,
      "source": [
        "math.sqrt(mean_squared_error(y_test,test_predict))"
      ],
      "outputs": [
        {
          "output_type": "execute_result",
          "data": {
            "text/plain": [
              "872.9823061635916"
            ]
          },
          "metadata": {
            "tags": []
          },
          "execution_count": 270
        }
      ],
      "metadata": {
        "id": "mWGSSmhVaZ2Q",
        "colab": {
          "base_uri": "https://localhost:8080/"
        },
        "outputId": "5782261c-fac1-4b8f-b2dd-963a020ab108"
      }
    },
    {
      "cell_type": "code",
      "execution_count": null,
      "source": [
        "look_back=100\n",
        "trainpredictplot=np.empty_like(sk1)\n",
        "trainpredictplot[:,:]=np.nan\n",
        "trainpredictplot[look_back:len(train_predict)+look_back,:]=train_predict\n",
        "\n",
        "testpredictplot=np.empty_like(sk1)\n",
        "testpredictplot[:,:]=np.nan\n",
        "testpredictplot[len(train_predict)+(look_back*2)+1:len(sk1)-1,:]=test_predict\n",
        "\n",
        "plt.plot(scaler.inverse_transform(sk1))\n",
        "plt.plot(trainpredictplot)\n",
        "plt.plot(testpredictplot)\n",
        "plt.show()"
      ],
      "outputs": [
        {
          "output_type": "display_data",
          "data": {
            "text/plain": [
              "<Figure size 432x288 with 1 Axes>"
            ],
            "image/png": "[encoded data removed]"
          },
          "metadata": {
            "tags": [],
            "needs_background": "light"
          }
        }
      ],
      "metadata": {
        "id": "EjjYeyf1amg3",
        "colab": {
          "base_uri": "https://localhost:8080/",
          "height": 265
        },
        "outputId": "be74ce61-e9d7-4a18-d5d9-84b28ca0e053"
      }
    },
    {
      "cell_type": "code",
      "execution_count": null,
      "source": [
        "len(test_data)"
      ],
      "outputs": [
        {
          "output_type": "execute_result",
          "data": {
            "text/plain": [
              "197"
            ]
          },
          "metadata": {
            "tags": []
          },
          "execution_count": 272
        }
      ],
      "metadata": {
        "id": "DiYBvDxdcRPd",
        "colab": {
          "base_uri": "https://localhost:8080/"
        },
        "outputId": "f8b1d933-81ed-4fba-c6f4-bfbac573e69c"
      }
    },
    {
      "cell_type": "code",
      "execution_count": null,
      "source": [
        "x_input=test_data[97:].reshape(1,-1)\n",
        "x_input.shape"
      ],
      "outputs": [
        {
          "output_type": "execute_result",
          "data": {
            "text/plain": [
              "(1, 100)"
            ]
          },
          "metadata": {
            "tags": []
          },
          "execution_count": 276
        }
      ],
      "metadata": {
        "id": "UeoNDTMncctI",
        "colab": {
          "base_uri": "https://localhost:8080/"
        },
        "outputId": "6f96c05d-afdd-4137-ea9d-3ca9a34cbc56"
      }
    },
    {
      "cell_type": "code",
      "execution_count": null,
      "source": [
        "temp_input=list(x_input)\n",
        "temp_input=temp_input[0].tolist()"
      ],
      "outputs": [],
      "metadata": {
        "id": "PcIPl-BDcvfF"
      }
    },
    {
      "cell_type": "code",
      "execution_count": null,
      "source": [
        "from numpy import array\n",
        "\n",
        "lst_output=[]\n",
        "n_steps=100\n",
        "i=0\n",
        "while(i<30):\n",
        "\n",
        "   if(len(temp_input)>100):\n",
        "     #print(temp_input)\n",
        "     x_input=np.array(temp_input[1:])\n",
        "     print(\"{} day input {}\".format(i,x_input))\n",
        "     x_input=x_input.reshape(1,-1)\n",
        "     x_input=x_input.reshape((1,n_steps,1))\n",
        "     #print(x_input)\n",
        "     yhat=model.predict(x_input,verbose=0)\n",
        "     print(\"{} day output {}\".format(i,yhat))\n",
        "     temp_input.extend(yhat[0].tolist())\n",
        "     temp_input=temp_input[1:]\n",
        "     #print(temp_input)\n",
        "     lst_output.extend(yhat.tolist())\n",
        "     i=i+1\n",
        "   else:\n",
        "     x_input=x_input.reshape((1,n_steps,1))\n",
        "     yhat=model.predict(x_input,verbose=0)\n",
        "     print(yhat[0])\n",
        "     temp_input.extend(yhat[0].tolist())\n",
        "     print(len(temp_input))\n",
        "     lst_output.extend(yhat.tolist())\n",
        "     i=i+1\n",
        "\n",
        "print(lst_output)\n"
      ],
      "outputs": [
        {
          "output_type": "stream",
          "name": "stdout",
          "text": [
            "[0.3612696]\n",
            "101\n",
            "1 day input [0.57229693 0.55332472 0.56873585 0.55289496 0.52262539 0.47719038\n",
            " 0.44661389 0.56241176 0.54540436 0.53521212 0.52716891 0.55553514\n",
            " 0.52858111 0.50500401 0.52072205 0.52790574 0.49198752 0.4828391\n",
            " 0.50942468 0.57831403 0.59685639 0.59949656 0.57739305 0.6779027\n",
            " 0.6629828  0.76109789 0.99428989 1.         0.94695161 0.97900169\n",
            " 0.96242405 0.89285933 0.89918342 0.88137781 0.851845   0.8575551\n",
            " 0.65272918 0.65248357 0.54878128 0.50703019 0.50967029 0.54810584\n",
            " 0.53017746 0.50690735 0.47946218 0.44157916 0.4730767  0.45827964\n",
            " 0.43574628 0.44606129 0.4440351  0.43071162 0.44532454 0.39289006\n",
            " 0.36354147 0.3582612  0.36796222 0.3542089  0.36710262 0.37324249\n",
            " 0.40136303 0.39307421 0.41929149 0.42015108 0.40559956 0.39184624\n",
            " 0.37625104 0.35574387 0.339289   0.35568249 0.32725488 0.32436917\n",
            " 0.32197461 0.29262601 0.26954013 0.30232703 0.29311723 0.27328544\n",
            " 0.27156632 0.27261007 0.26518084 0.25523421 0.24031438 0.23749006\n",
            " 0.22306137 0.27193469 0.27396081 0.29391537 0.30527412 0.30957203\n",
            " 0.33935038 0.34579724 0.36882174 0.35488427 0.36225211 0.35973478\n",
            " 0.3596734  0.38306628 0.40670476 0.36126959]\n",
            "1 day output [[0.3639965]]\n",
            "2 day input [0.55332472 0.56873585 0.55289496 0.52262539 0.47719038 0.44661389\n",
            " 0.56241176 0.54540436 0.53521212 0.52716891 0.55553514 0.52858111\n",
            " 0.50500401 0.52072205 0.52790574 0.49198752 0.4828391  0.50942468\n",
            " 0.57831403 0.59685639 0.59949656 0.57739305 0.6779027  0.6629828\n",
            " 0.76109789 0.99428989 1.         0.94695161 0.97900169 0.96242405\n",
            " 0.89285933 0.89918342 0.88137781 0.851845   0.8575551  0.65272918\n",
            " 0.65248357 0.54878128 0.50703019 0.50967029 0.54810584 0.53017746\n",
            " 0.50690735 0.47946218 0.44157916 0.4730767  0.45827964 0.43574628\n",
            " 0.44606129 0.4440351  0.43071162 0.44532454 0.39289006 0.36354147\n",
            " 0.3582612  0.36796222 0.3542089  0.36710262 0.37324249 0.40136303\n",
            " 0.39307421 0.41929149 0.42015108 0.40559956 0.39184624 0.37625104\n",
            " 0.35574387 0.339289   0.35568249 0.32725488 0.32436917 0.32197461\n",
            " 0.29262601 0.26954013 0.30232703 0.29311723 0.27328544 0.27156632\n",
            " 0.27261007 0.26518084 0.25523421 0.24031438 0.23749006 0.22306137\n",
            " 0.27193469 0.27396081 0.29391537 0.30527412 0.30957203 0.33935038\n",
            " 0.34579724 0.36882174 0.35488427 0.36225211 0.35973478 0.3596734\n",
            " 0.38306628 0.40670476 0.36126959 0.36399651]\n",
            "2 day output [[0.36361474]]\n",
            "3 day input [0.56873585 0.55289496 0.52262539 0.47719038 0.44661389 0.56241176\n",
            " 0.54540436 0.53521212 0.52716891 0.55553514 0.52858111 0.50500401\n",
            " 0.52072205 0.52790574 0.49198752 0.4828391  0.50942468 0.57831403\n",
            " 0.59685639 0.59949656 0.57739305 0.6779027  0.6629828  0.76109789\n",
            " 0.99428989 1.         0.94695161 0.97900169 0.96242405 0.89285933\n",
            " 0.89918342 0.88137781 0.851845   0.8575551  0.65272918 0.65248357\n",
            " 0.54878128 0.50703019 0.50967029 0.54810584 0.53017746 0.50690735\n",
            " 0.47946218 0.44157916 0.4730767  0.45827964 0.43574628 0.44606129\n",
            " 0.4440351  0.43071162 0.44532454 0.39289006 0.36354147 0.3582612\n",
            " 0.36796222 0.3542089  0.36710262 0.37324249 0.40136303 0.39307421\n",
            " 0.41929149 0.42015108 0.40559956 0.39184624 0.37625104 0.35574387\n",
            " 0.339289   0.35568249 0.32725488 0.32436917 0.32197461 0.29262601\n",
            " 0.26954013 0.30232703 0.29311723 0.27328544 0.27156632 0.27261007\n",
            " 0.26518084 0.25523421 0.24031438 0.23749006 0.22306137 0.27193469\n",
            " 0.27396081 0.29391537 0.30527412 0.30957203 0.33935038 0.34579724\n",
            " 0.36882174 0.35488427 0.36225211 0.35973478 0.3596734  0.38306628\n",
            " 0.40670476 0.36126959 0.36399651 0.36361474]\n",
            "3 day output [[0.36054885]]\n",
            "4 day input [0.55289496 0.52262539 0.47719038 0.44661389 0.56241176 0.54540436\n",
            " 0.53521212 0.52716891 0.55553514 0.52858111 0.50500401 0.52072205\n",
            " 0.52790574 0.49198752 0.4828391  0.50942468 0.57831403 0.59685639\n",
            " 0.59949656 0.57739305 0.6779027  0.6629828  0.76109789 0.99428989\n",
            " 1.         0.94695161 0.97900169 0.96242405 0.89285933 0.89918342\n",
            " 0.88137781 0.851845   0.8575551  0.65272918 0.65248357 0.54878128\n",
            " 0.50703019 0.50967029 0.54810584 0.53017746 0.50690735 0.47946218\n",
            " 0.44157916 0.4730767  0.45827964 0.43574628 0.44606129 0.4440351\n",
            " 0.43071162 0.44532454 0.39289006 0.36354147 0.3582612  0.36796222\n",
            " 0.3542089  0.36710262 0.37324249 0.40136303 0.39307421 0.41929149\n",
            " 0.42015108 0.40559956 0.39184624 0.37625104 0.35574387 0.339289\n",
            " 0.35568249 0.32725488 0.32436917 0.32197461 0.29262601 0.26954013\n",
            " 0.30232703 0.29311723 0.27328544 0.27156632 0.27261007 0.26518084\n",
            " 0.25523421 0.24031438 0.23749006 0.22306137 0.27193469 0.27396081\n",
            " 0.29391537 0.30527412 0.30957203 0.33935038 0.34579724 0.36882174\n",
            " 0.35488427 0.36225211 0.35973478 0.3596734  0.38306628 0.40670476\n",
            " 0.36126959 0.36399651 0.36361474 0.36054885]\n",
            "4 day output [[0.35591274]]\n",
            "5 day input [0.52262539 0.47719038 0.44661389 0.56241176 0.54540436 0.53521212\n",
            " 0.52716891 0.55553514 0.52858111 0.50500401 0.52072205 0.52790574\n",
            " 0.49198752 0.4828391  0.50942468 0.57831403 0.59685639 0.59949656\n",
            " 0.57739305 0.6779027  0.6629828  0.76109789 0.99428989 1.\n",
            " 0.94695161 0.97900169 0.96242405 0.89285933 0.89918342 0.88137781\n",
            " 0.851845   0.8575551  0.65272918 0.65248357 0.54878128 0.50703019\n",
            " 0.50967029 0.54810584 0.53017746 0.50690735 0.47946218 0.44157916\n",
            " 0.4730767  0.45827964 0.43574628 0.44606129 0.4440351  0.43071162\n",
            " 0.44532454 0.39289006 0.36354147 0.3582612  0.36796222 0.3542089\n",
            " 0.36710262 0.37324249 0.40136303 0.39307421 0.41929149 0.42015108\n",
            " 0.40559956 0.39184624 0.37625104 0.35574387 0.339289   0.35568249\n",
            " 0.32725488 0.32436917 0.32197461 0.29262601 0.26954013 0.30232703\n",
            " 0.29311723 0.27328544 0.27156632 0.27261007 0.26518084 0.25523421\n",
            " 0.24031438 0.23749006 0.22306137 0.27193469 0.27396081 0.29391537\n",
            " 0.30527412 0.30957203 0.33935038 0.34579724 0.36882174 0.35488427\n",
            " 0.36225211 0.35973478 0.3596734  0.38306628 0.40670476 0.36126959\n",
            " 0.36399651 0.36361474 0.36054885 0.35591274]\n",
            "5 day output [[0.3507422]]\n",
            "6 day input [0.47719038 0.44661389 0.56241176 0.54540436 0.53521212 0.52716891\n",
            " 0.55553514 0.52858111 0.50500401 0.52072205 0.52790574 0.49198752\n",
            " 0.4828391  0.50942468 0.57831403 0.59685639 0.59949656 0.57739305\n",
            " 0.6779027  0.6629828  0.76109789 0.99428989 1.         0.94695161\n",
            " 0.97900169 0.96242405 0.89285933 0.89918342 0.88137781 0.851845\n",
            " 0.8575551  0.65272918 0.65248357 0.54878128 0.50703019 0.50967029\n",
            " 0.54810584 0.53017746 0.50690735 0.47946218 0.44157916 0.4730767\n",
            " 0.45827964 0.43574628 0.44606129 0.4440351  0.43071162 0.44532454\n",
            " 0.39289006 0.36354147 0.3582612  0.36796222 0.3542089  0.36710262\n",
            " 0.37324249 0.40136303 0.39307421 0.41929149 0.42015108 0.40559956\n",
            " 0.39184624 0.37625104 0.35574387 0.339289   0.35568249 0.32725488\n",
            " 0.32436917 0.32197461 0.29262601 0.26954013 0.30232703 0.29311723\n",
            " 0.27328544 0.27156632 0.27261007 0.26518084 0.25523421 0.24031438\n",
            " 0.23749006 0.22306137 0.27193469 0.27396081 0.29391537 0.30527412\n",
            " 0.30957203 0.33935038 0.34579724 0.36882174 0.35488427 0.36225211\n",
            " 0.35973478 0.3596734  0.38306628 0.40670476 0.36126959 0.36399651\n",
            " 0.36361474 0.36054885 0.35591274 0.35074219]\n",
            "6 day output [[0.3457145]]\n",
            "7 day input [0.44661389 0.56241176 0.54540436 0.53521212 0.52716891 0.55553514\n",
            " 0.52858111 0.50500401 0.52072205 0.52790574 0.49198752 0.4828391\n",
            " 0.50942468 0.57831403 0.59685639 0.59949656 0.57739305 0.6779027\n",
            " 0.6629828  0.76109789 0.99428989 1.         0.94695161 0.97900169\n",
            " 0.96242405 0.89285933 0.89918342 0.88137781 0.851845   0.8575551\n",
            " 0.65272918 0.65248357 0.54878128 0.50703019 0.50967029 0.54810584\n",
            " 0.53017746 0.50690735 0.47946218 0.44157916 0.4730767  0.45827964\n",
            " 0.43574628 0.44606129 0.4440351  0.43071162 0.44532454 0.39289006\n",
            " 0.36354147 0.3582612  0.36796222 0.3542089  0.36710262 0.37324249\n",
            " 0.40136303 0.39307421 0.41929149 0.42015108 0.40559956 0.39184624\n",
            " 0.37625104 0.35574387 0.339289   0.35568249 0.32725488 0.32436917\n",
            " 0.32197461 0.29262601 0.26954013 0.30232703 0.29311723 0.27328544\n",
            " 0.27156632 0.27261007 0.26518084 0.25523421 0.24031438 0.23749006\n",
            " 0.22306137 0.27193469 0.27396081 0.29391537 0.30527412 0.30957203\n",
            " 0.33935038 0.34579724 0.36882174 0.35488427 0.36225211 0.35973478\n",
            " 0.3596734  0.38306628 0.40670476 0.36126959 0.36399651 0.36361474\n",
            " 0.36054885 0.35591274 0.35074219 0.34571451]\n",
            "7 day output [[0.3411568]]\n",
            "8 day input [0.56241176 0.54540436 0.53521212 0.52716891 0.55553514 0.52858111\n",
            " 0.50500401 0.52072205 0.52790574 0.49198752 0.4828391  0.50942468\n",
            " 0.57831403 0.59685639 0.59949656 0.57739305 0.6779027  0.6629828\n",
            " 0.76109789 0.99428989 1.         0.94695161 0.97900169 0.96242405\n",
            " 0.89285933 0.89918342 0.88137781 0.851845   0.8575551  0.65272918\n",
            " 0.65248357 0.54878128 0.50703019 0.50967029 0.54810584 0.53017746\n",
            " 0.50690735 0.47946218 0.44157916 0.4730767  0.45827964 0.43574628\n",
            " 0.44606129 0.4440351  0.43071162 0.44532454 0.39289006 0.36354147\n",
            " 0.3582612  0.36796222 0.3542089  0.36710262 0.37324249 0.40136303\n",
            " 0.39307421 0.41929149 0.42015108 0.40559956 0.39184624 0.37625104\n",
            " 0.35574387 0.339289   0.35568249 0.32725488 0.32436917 0.32197461\n",
            " 0.29262601 0.26954013 0.30232703 0.29311723 0.27328544 0.27156632\n",
            " 0.27261007 0.26518084 0.25523421 0.24031438 0.23749006 0.22306137\n",
            " 0.27193469 0.27396081 0.29391537 0.30527412 0.30957203 0.33935038\n",
            " 0.34579724 0.36882174 0.35488427 0.36225211 0.35973478 0.3596734\n",
            " 0.38306628 0.40670476 0.36126959 0.36399651 0.36361474 0.36054885\n",
            " 0.35591274 0.35074219 0.34571451 0.34115681]\n",
            "8 day output [[0.33716202]]\n",
            "9 day input [0.54540436 0.53521212 0.52716891 0.55553514 0.52858111 0.50500401\n",
            " 0.52072205 0.52790574 0.49198752 0.4828391  0.50942468 0.57831403\n",
            " 0.59685639 0.59949656 0.57739305 0.6779027  0.6629828  0.76109789\n",
            " 0.99428989 1.         0.94695161 0.97900169 0.96242405 0.89285933\n",
            " 0.89918342 0.88137781 0.851845   0.8575551  0.65272918 0.65248357\n",
            " 0.54878128 0.50703019 0.50967029 0.54810584 0.53017746 0.50690735\n",
            " 0.47946218 0.44157916 0.4730767  0.45827964 0.43574628 0.44606129\n",
            " 0.4440351  0.43071162 0.44532454 0.39289006 0.36354147 0.3582612\n",
            " 0.36796222 0.3542089  0.36710262 0.37324249 0.40136303 0.39307421\n",
            " 0.41929149 0.42015108 0.40559956 0.39184624 0.37625104 0.35574387\n",
            " 0.339289   0.35568249 0.32725488 0.32436917 0.32197461 0.29262601\n",
            " 0.26954013 0.30232703 0.29311723 0.27328544 0.27156632 0.27261007\n",
            " 0.26518084 0.25523421 0.24031438 0.23749006 0.22306137 0.27193469\n",
            " 0.27396081 0.29391537 0.30527412 0.30957203 0.33935038 0.34579724\n",
            " 0.36882174 0.35488427 0.36225211 0.35973478 0.3596734  0.38306628\n",
            " 0.40670476 0.36126959 0.36399651 0.36361474 0.36054885 0.35591274\n",
            " 0.35074219 0.34571451 0.34115681 0.33716202]\n",
            "9 day output [[0.3337041]]\n",
            "10 day input [0.53521212 0.52716891 0.55553514 0.52858111 0.50500401 0.52072205\n",
            " 0.52790574 0.49198752 0.4828391  0.50942468 0.57831403 0.59685639\n",
            " 0.59949656 0.57739305 0.6779027  0.6629828  0.76109789 0.99428989\n",
            " 1.         0.94695161 0.97900169 0.96242405 0.89285933 0.89918342\n",
            " 0.88137781 0.851845   0.8575551  0.65272918 0.65248357 0.54878128\n",
            " 0.50703019 0.50967029 0.54810584 0.53017746 0.50690735 0.47946218\n",
            " 0.44157916 0.4730767  0.45827964 0.43574628 0.44606129 0.4440351\n",
            " 0.43071162 0.44532454 0.39289006 0.36354147 0.3582612  0.36796222\n",
            " 0.3542089  0.36710262 0.37324249 0.40136303 0.39307421 0.41929149\n",
            " 0.42015108 0.40559956 0.39184624 0.37625104 0.35574387 0.339289\n",
            " 0.35568249 0.32725488 0.32436917 0.32197461 0.29262601 0.26954013\n",
            " 0.30232703 0.29311723 0.27328544 0.27156632 0.27261007 0.26518084\n",
            " 0.25523421 0.24031438 0.23749006 0.22306137 0.27193469 0.27396081\n",
            " 0.29391537 0.30527412 0.30957203 0.33935038 0.34579724 0.36882174\n",
            " 0.35488427 0.36225211 0.35973478 0.3596734  0.38306628 0.40670476\n",
            " 0.36126959 0.36399651 0.36361474 0.36054885 0.35591274 0.35074219\n",
            " 0.34571451 0.34115681 0.33716202 0.33370411]\n",
            "10 day output [[0.33071446]]\n",
            "11 day input [0.52716891 0.55553514 0.52858111 0.50500401 0.52072205 0.52790574\n",
            " 0.49198752 0.4828391  0.50942468 0.57831403 0.59685639 0.59949656\n",
            " 0.57739305 0.6779027  0.6629828  0.76109789 0.99428989 1.\n",
            " 0.94695161 0.97900169 0.96242405 0.89285933 0.89918342 0.88137781\n",
            " 0.851845   0.8575551  0.65272918 0.65248357 0.54878128 0.50703019\n",
            " 0.50967029 0.54810584 0.53017746 0.50690735 0.47946218 0.44157916\n",
            " 0.4730767  0.45827964 0.43574628 0.44606129 0.4440351  0.43071162\n",
            " 0.44532454 0.39289006 0.36354147 0.3582612  0.36796222 0.3542089\n",
            " 0.36710262 0.37324249 0.40136303 0.39307421 0.41929149 0.42015108\n",
            " 0.40559956 0.39184624 0.37625104 0.35574387 0.339289   0.35568249\n",
            " 0.32725488 0.32436917 0.32197461 0.29262601 0.26954013 0.30232703\n",
            " 0.29311723 0.27328544 0.27156632 0.27261007 0.26518084 0.25523421\n",
            " 0.24031438 0.23749006 0.22306137 0.27193469 0.27396081 0.29391537\n",
            " 0.30527412 0.30957203 0.33935038 0.34579724 0.36882174 0.35488427\n",
            " 0.36225211 0.35973478 0.3596734  0.38306628 0.40670476 0.36126959\n",
            " 0.36399651 0.36361474 0.36054885 0.35591274 0.35074219 0.34571451\n",
            " 0.34115681 0.33716202 0.33370411 0.33071446]\n",
            "11 day output [[0.32811958]]\n",
            "12 day input [0.55553514 0.52858111 0.50500401 0.52072205 0.52790574 0.49198752\n",
            " 0.4828391  0.50942468 0.57831403 0.59685639 0.59949656 0.57739305\n",
            " 0.6779027  0.6629828  0.76109789 0.99428989 1.         0.94695161\n",
            " 0.97900169 0.96242405 0.89285933 0.89918342 0.88137781 0.851845\n",
            " 0.8575551  0.65272918 0.65248357 0.54878128 0.50703019 0.50967029\n",
            " 0.54810584 0.53017746 0.50690735 0.47946218 0.44157916 0.4730767\n",
            " 0.45827964 0.43574628 0.44606129 0.4440351  0.43071162 0.44532454\n",
            " 0.39289006 0.36354147 0.3582612  0.36796222 0.3542089  0.36710262\n",
            " 0.37324249 0.40136303 0.39307421 0.41929149 0.42015108 0.40559956\n",
            " 0.39184624 0.37625104 0.35574387 0.339289   0.35568249 0.32725488\n",
            " 0.32436917 0.32197461 0.29262601 0.26954013 0.30232703 0.29311723\n",
            " 0.27328544 0.27156632 0.27261007 0.26518084 0.25523421 0.24031438\n",
            " 0.23749006 0.22306137 0.27193469 0.27396081 0.29391537 0.30527412\n",
            " 0.30957203 0.33935038 0.34579724 0.36882174 0.35488427 0.36225211\n",
            " 0.35973478 0.3596734  0.38306628 0.40670476 0.36126959 0.36399651\n",
            " 0.36361474 0.36054885 0.35591274 0.35074219 0.34571451 0.34115681\n",
            " 0.33716202 0.33370411 0.33071446 0.32811958]\n",
            "12 day output [[0.32585335]]\n",
            "13 day input [0.52858111 0.50500401 0.52072205 0.52790574 0.49198752 0.4828391\n",
            " 0.50942468 0.57831403 0.59685639 0.59949656 0.57739305 0.6779027\n",
            " 0.6629828  0.76109789 0.99428989 1.         0.94695161 0.97900169\n",
            " 0.96242405 0.89285933 0.89918342 0.88137781 0.851845   0.8575551\n",
            " 0.65272918 0.65248357 0.54878128 0.50703019 0.50967029 0.54810584\n",
            " 0.53017746 0.50690735 0.47946218 0.44157916 0.4730767  0.45827964\n",
            " 0.43574628 0.44606129 0.4440351  0.43071162 0.44532454 0.39289006\n",
            " 0.36354147 0.3582612  0.36796222 0.3542089  0.36710262 0.37324249\n",
            " 0.40136303 0.39307421 0.41929149 0.42015108 0.40559956 0.39184624\n",
            " 0.37625104 0.35574387 0.339289   0.35568249 0.32725488 0.32436917\n",
            " 0.32197461 0.29262601 0.26954013 0.30232703 0.29311723 0.27328544\n",
            " 0.27156632 0.27261007 0.26518084 0.25523421 0.24031438 0.23749006\n",
            " 0.22306137 0.27193469 0.27396081 0.29391537 0.30527412 0.30957203\n",
            " 0.33935038 0.34579724 0.36882174 0.35488427 0.36225211 0.35973478\n",
            " 0.3596734  0.38306628 0.40670476 0.36126959 0.36399651 0.36361474\n",
            " 0.36054885 0.35591274 0.35074219 0.34571451 0.34115681 0.33716202\n",
            " 0.33370411 0.33071446 0.32811958 0.32585335]\n",
            "13 day output [[0.32385853]]\n",
            "14 day input [0.50500401 0.52072205 0.52790574 0.49198752 0.4828391  0.50942468\n",
            " 0.57831403 0.59685639 0.59949656 0.57739305 0.6779027  0.6629828\n",
            " 0.76109789 0.99428989 1.         0.94695161 0.97900169 0.96242405\n",
            " 0.89285933 0.89918342 0.88137781 0.851845   0.8575551  0.65272918\n",
            " 0.65248357 0.54878128 0.50703019 0.50967029 0.54810584 0.53017746\n",
            " 0.50690735 0.47946218 0.44157916 0.4730767  0.45827964 0.43574628\n",
            " 0.44606129 0.4440351  0.43071162 0.44532454 0.39289006 0.36354147\n",
            " 0.3582612  0.36796222 0.3542089  0.36710262 0.37324249 0.40136303\n",
            " 0.39307421 0.41929149 0.42015108 0.40559956 0.39184624 0.37625104\n",
            " 0.35574387 0.339289   0.35568249 0.32725488 0.32436917 0.32197461\n",
            " 0.29262601 0.26954013 0.30232703 0.29311723 0.27328544 0.27156632\n",
            " 0.27261007 0.26518084 0.25523421 0.24031438 0.23749006 0.22306137\n",
            " 0.27193469 0.27396081 0.29391537 0.30527412 0.30957203 0.33935038\n",
            " 0.34579724 0.36882174 0.35488427 0.36225211 0.35973478 0.3596734\n",
            " 0.38306628 0.40670476 0.36126959 0.36399651 0.36361474 0.36054885\n",
            " 0.35591274 0.35074219 0.34571451 0.34115681 0.33716202 0.33370411\n",
            " 0.33071446 0.32811958 0.32585335 0.32385853]\n",
            "14 day output [[0.32208475]]\n",
            "15 day input [0.52072205 0.52790574 0.49198752 0.4828391  0.50942468 0.57831403\n",
            " 0.59685639 0.59949656 0.57739305 0.6779027  0.6629828  0.76109789\n",
            " 0.99428989 1.         0.94695161 0.97900169 0.96242405 0.89285933\n",
            " 0.89918342 0.88137781 0.851845   0.8575551  0.65272918 0.65248357\n",
            " 0.54878128 0.50703019 0.50967029 0.54810584 0.53017746 0.50690735\n",
            " 0.47946218 0.44157916 0.4730767  0.45827964 0.43574628 0.44606129\n",
            " 0.4440351  0.43071162 0.44532454 0.39289006 0.36354147 0.3582612\n",
            " 0.36796222 0.3542089  0.36710262 0.37324249 0.40136303 0.39307421\n",
            " 0.41929149 0.42015108 0.40559956 0.39184624 0.37625104 0.35574387\n",
            " 0.339289   0.35568249 0.32725488 0.32436917 0.32197461 0.29262601\n",
            " 0.26954013 0.30232703 0.29311723 0.27328544 0.27156632 0.27261007\n",
            " 0.26518084 0.25523421 0.24031438 0.23749006 0.22306137 0.27193469\n",
            " 0.27396081 0.29391537 0.30527412 0.30957203 0.33935038 0.34579724\n",
            " 0.36882174 0.35488427 0.36225211 0.35973478 0.3596734  0.38306628\n",
            " 0.40670476 0.36126959 0.36399651 0.36361474 0.36054885 0.35591274\n",
            " 0.35074219 0.34571451 0.34115681 0.33716202 0.33370411 0.33071446\n",
            " 0.32811958 0.32585335 0.32385853 0.32208475]\n",
            "15 day output [[0.3204868]]\n",
            "16 day input [0.52790574 0.49198752 0.4828391  0.50942468 0.57831403 0.59685639\n",
            " 0.59949656 0.57739305 0.6779027  0.6629828  0.76109789 0.99428989\n",
            " 1.         0.94695161 0.97900169 0.96242405 0.89285933 0.89918342\n",
            " 0.88137781 0.851845   0.8575551  0.65272918 0.65248357 0.54878128\n",
            " 0.50703019 0.50967029 0.54810584 0.53017746 0.50690735 0.47946218\n",
            " 0.44157916 0.4730767  0.45827964 0.43574628 0.44606129 0.4440351\n",
            " 0.43071162 0.44532454 0.39289006 0.36354147 0.3582612  0.36796222\n",
            " 0.3542089  0.36710262 0.37324249 0.40136303 0.39307421 0.41929149\n",
            " 0.42015108 0.40559956 0.39184624 0.37625104 0.35574387 0.339289\n",
            " 0.35568249 0.32725488 0.32436917 0.32197461 0.29262601 0.26954013\n",
            " 0.30232703 0.29311723 0.27328544 0.27156632 0.27261007 0.26518084\n",
            " 0.25523421 0.24031438 0.23749006 0.22306137 0.27193469 0.27396081\n",
            " 0.29391537 0.30527412 0.30957203 0.33935038 0.34579724 0.36882174\n",
            " 0.35488427 0.36225211 0.35973478 0.3596734  0.38306628 0.40670476\n",
            " 0.36126959 0.36399651 0.36361474 0.36054885 0.35591274 0.35074219\n",
            " 0.34571451 0.34115681 0.33716202 0.33370411 0.33071446 0.32811958\n",
            " 0.32585335 0.32385853 0.32208475 0.32048681]\n",
            "16 day output [[0.3190248]]\n",
            "17 day input [0.49198752 0.4828391  0.50942468 0.57831403 0.59685639 0.59949656\n",
            " 0.57739305 0.6779027  0.6629828  0.76109789 0.99428989 1.\n",
            " 0.94695161 0.97900169 0.96242405 0.89285933 0.89918342 0.88137781\n",
            " 0.851845   0.8575551  0.65272918 0.65248357 0.54878128 0.50703019\n",
            " 0.50967029 0.54810584 0.53017746 0.50690735 0.47946218 0.44157916\n",
            " 0.4730767  0.45827964 0.43574628 0.44606129 0.4440351  0.43071162\n",
            " 0.44532454 0.39289006 0.36354147 0.3582612  0.36796222 0.3542089\n",
            " 0.36710262 0.37324249 0.40136303 0.39307421 0.41929149 0.42015108\n",
            " 0.40559956 0.39184624 0.37625104 0.35574387 0.339289   0.35568249\n",
            " 0.32725488 0.32436917 0.32197461 0.29262601 0.26954013 0.30232703\n",
            " 0.29311723 0.27328544 0.27156632 0.27261007 0.26518084 0.25523421\n",
            " 0.24031438 0.23749006 0.22306137 0.27193469 0.27396081 0.29391537\n",
            " 0.30527412 0.30957203 0.33935038 0.34579724 0.36882174 0.35488427\n",
            " 0.36225211 0.35973478 0.3596734  0.38306628 0.40670476 0.36126959\n",
            " 0.36399651 0.36361474 0.36054885 0.35591274 0.35074219 0.34571451\n",
            " 0.34115681 0.33716202 0.33370411 0.33071446 0.32811958 0.32585335\n",
            " 0.32385853 0.32208475 0.32048681 0.3190248 ]\n",
            "17 day output [[0.3176643]]\n",
            "18 day input [0.4828391  0.50942468 0.57831403 0.59685639 0.59949656 0.57739305\n",
            " 0.6779027  0.6629828  0.76109789 0.99428989 1.         0.94695161\n",
            " 0.97900169 0.96242405 0.89285933 0.89918342 0.88137781 0.851845\n",
            " 0.8575551  0.65272918 0.65248357 0.54878128 0.50703019 0.50967029\n",
            " 0.54810584 0.53017746 0.50690735 0.47946218 0.44157916 0.4730767\n",
            " 0.45827964 0.43574628 0.44606129 0.4440351  0.43071162 0.44532454\n",
            " 0.39289006 0.36354147 0.3582612  0.36796222 0.3542089  0.36710262\n",
            " 0.37324249 0.40136303 0.39307421 0.41929149 0.42015108 0.40559956\n",
            " 0.39184624 0.37625104 0.35574387 0.339289   0.35568249 0.32725488\n",
            " 0.32436917 0.32197461 0.29262601 0.26954013 0.30232703 0.29311723\n",
            " 0.27328544 0.27156632 0.27261007 0.26518084 0.25523421 0.24031438\n",
            " 0.23749006 0.22306137 0.27193469 0.27396081 0.29391537 0.30527412\n",
            " 0.30957203 0.33935038 0.34579724 0.36882174 0.35488427 0.36225211\n",
            " 0.35973478 0.3596734  0.38306628 0.40670476 0.36126959 0.36399651\n",
            " 0.36361474 0.36054885 0.35591274 0.35074219 0.34571451 0.34115681\n",
            " 0.33716202 0.33370411 0.33071446 0.32811958 0.32585335 0.32385853\n",
            " 0.32208475 0.32048681 0.3190248  0.3176643 ]\n",
            "18 day output [[0.31637692]]\n",
            "19 day input [0.50942468 0.57831403 0.59685639 0.59949656 0.57739305 0.6779027\n",
            " 0.6629828  0.76109789 0.99428989 1.         0.94695161 0.97900169\n",
            " 0.96242405 0.89285933 0.89918342 0.88137781 0.851845   0.8575551\n",
            " 0.65272918 0.65248357 0.54878128 0.50703019 0.50967029 0.54810584\n",
            " 0.53017746 0.50690735 0.47946218 0.44157916 0.4730767  0.45827964\n",
            " 0.43574628 0.44606129 0.4440351  0.43071162 0.44532454 0.39289006\n",
            " 0.36354147 0.3582612  0.36796222 0.3542089  0.36710262 0.37324249\n",
            " 0.40136303 0.39307421 0.41929149 0.42015108 0.40559956 0.39184624\n",
            " 0.37625104 0.35574387 0.339289   0.35568249 0.32725488 0.32436917\n",
            " 0.32197461 0.29262601 0.26954013 0.30232703 0.29311723 0.27328544\n",
            " 0.27156632 0.27261007 0.26518084 0.25523421 0.24031438 0.23749006\n",
            " 0.22306137 0.27193469 0.27396081 0.29391537 0.30527412 0.30957203\n",
            " 0.33935038 0.34579724 0.36882174 0.35488427 0.36225211 0.35973478\n",
            " 0.3596734  0.38306628 0.40670476 0.36126959 0.36399651 0.36361474\n",
            " 0.36054885 0.35591274 0.35074219 0.34571451 0.34115681 0.33716202\n",
            " 0.33370411 0.33071446 0.32811958 0.32585335 0.32385853 0.32208475\n",
            " 0.32048681 0.3190248  0.3176643  0.31637692]\n",
            "19 day output [[0.31514102]]\n",
            "20 day input [0.57831403 0.59685639 0.59949656 0.57739305 0.6779027  0.6629828\n",
            " 0.76109789 0.99428989 1.         0.94695161 0.97900169 0.96242405\n",
            " 0.89285933 0.89918342 0.88137781 0.851845   0.8575551  0.65272918\n",
            " 0.65248357 0.54878128 0.50703019 0.50967029 0.54810584 0.53017746\n",
            " 0.50690735 0.47946218 0.44157916 0.4730767  0.45827964 0.43574628\n",
            " 0.44606129 0.4440351  0.43071162 0.44532454 0.39289006 0.36354147\n",
            " 0.3582612  0.36796222 0.3542089  0.36710262 0.37324249 0.40136303\n",
            " 0.39307421 0.41929149 0.42015108 0.40559956 0.39184624 0.37625104\n",
            " 0.35574387 0.339289   0.35568249 0.32725488 0.32436917 0.32197461\n",
            " 0.29262601 0.26954013 0.30232703 0.29311723 0.27328544 0.27156632\n",
            " 0.27261007 0.26518084 0.25523421 0.24031438 0.23749006 0.22306137\n",
            " 0.27193469 0.27396081 0.29391537 0.30527412 0.30957203 0.33935038\n",
            " 0.34579724 0.36882174 0.35488427 0.36225211 0.35973478 0.3596734\n",
            " 0.38306628 0.40670476 0.36126959 0.36399651 0.36361474 0.36054885\n",
            " 0.35591274 0.35074219 0.34571451 0.34115681 0.33716202 0.33370411\n",
            " 0.33071446 0.32811958 0.32585335 0.32385853 0.32208475 0.32048681\n",
            " 0.3190248  0.3176643  0.31637692 0.31514102]\n",
            "20 day output [[0.31394106]]\n",
            "21 day input [0.59685639 0.59949656 0.57739305 0.6779027  0.6629828  0.76109789\n",
            " 0.99428989 1.         0.94695161 0.97900169 0.96242405 0.89285933\n",
            " 0.89918342 0.88137781 0.851845   0.8575551  0.65272918 0.65248357\n",
            " 0.54878128 0.50703019 0.50967029 0.54810584 0.53017746 0.50690735\n",
            " 0.47946218 0.44157916 0.4730767  0.45827964 0.43574628 0.44606129\n",
            " 0.4440351  0.43071162 0.44532454 0.39289006 0.36354147 0.3582612\n",
            " 0.36796222 0.3542089  0.36710262 0.37324249 0.40136303 0.39307421\n",
            " 0.41929149 0.42015108 0.40559956 0.39184624 0.37625104 0.35574387\n",
            " 0.339289   0.35568249 0.32725488 0.32436917 0.32197461 0.29262601\n",
            " 0.26954013 0.30232703 0.29311723 0.27328544 0.27156632 0.27261007\n",
            " 0.26518084 0.25523421 0.24031438 0.23749006 0.22306137 0.27193469\n",
            " 0.27396081 0.29391537 0.30527412 0.30957203 0.33935038 0.34579724\n",
            " 0.36882174 0.35488427 0.36225211 0.35973478 0.3596734  0.38306628\n",
            " 0.40670476 0.36126959 0.36399651 0.36361474 0.36054885 0.35591274\n",
            " 0.35074219 0.34571451 0.34115681 0.33716202 0.33370411 0.33071446\n",
            " 0.32811958 0.32585335 0.32385853 0.32208475 0.32048681 0.3190248\n",
            " 0.3176643  0.31637692 0.31514102 0.31394106]\n",
            "21 day output [[0.31276718]]\n",
            "22 day input [0.59949656 0.57739305 0.6779027  0.6629828  0.76109789 0.99428989\n",
            " 1.         0.94695161 0.97900169 0.96242405 0.89285933 0.89918342\n",
            " 0.88137781 0.851845   0.8575551  0.65272918 0.65248357 0.54878128\n",
            " 0.50703019 0.50967029 0.54810584 0.53017746 0.50690735 0.47946218\n",
            " 0.44157916 0.4730767  0.45827964 0.43574628 0.44606129 0.4440351\n",
            " 0.43071162 0.44532454 0.39289006 0.36354147 0.3582612  0.36796222\n",
            " 0.3542089  0.36710262 0.37324249 0.40136303 0.39307421 0.41929149\n",
            " 0.42015108 0.40559956 0.39184624 0.37625104 0.35574387 0.339289\n",
            " 0.35568249 0.32725488 0.32436917 0.32197461 0.29262601 0.26954013\n",
            " 0.30232703 0.29311723 0.27328544 0.27156632 0.27261007 0.26518084\n",
            " 0.25523421 0.24031438 0.23749006 0.22306137 0.27193469 0.27396081\n",
            " 0.29391537 0.30527412 0.30957203 0.33935038 0.34579724 0.36882174\n",
            " 0.35488427 0.36225211 0.35973478 0.3596734  0.38306628 0.40670476\n",
            " 0.36126959 0.36399651 0.36361474 0.36054885 0.35591274 0.35074219\n",
            " 0.34571451 0.34115681 0.33716202 0.33370411 0.33071446 0.32811958\n",
            " 0.32585335 0.32385853 0.32208475 0.32048681 0.3190248  0.3176643\n",
            " 0.31637692 0.31514102 0.31394106 0.31276718]\n",
            "22 day output [[0.31161427]]\n",
            "23 day input [0.57739305 0.6779027  0.6629828  0.76109789 0.99428989 1.\n",
            " 0.94695161 0.97900169 0.96242405 0.89285933 0.89918342 0.88137781\n",
            " 0.851845   0.8575551  0.65272918 0.65248357 0.54878128 0.50703019\n",
            " 0.50967029 0.54810584 0.53017746 0.50690735 0.47946218 0.44157916\n",
            " 0.4730767  0.45827964 0.43574628 0.44606129 0.4440351  0.43071162\n",
            " 0.44532454 0.39289006 0.36354147 0.3582612  0.36796222 0.3542089\n",
            " 0.36710262 0.37324249 0.40136303 0.39307421 0.41929149 0.42015108\n",
            " 0.40559956 0.39184624 0.37625104 0.35574387 0.339289   0.35568249\n",
            " 0.32725488 0.32436917 0.32197461 0.29262601 0.26954013 0.30232703\n",
            " 0.29311723 0.27328544 0.27156632 0.27261007 0.26518084 0.25523421\n",
            " 0.24031438 0.23749006 0.22306137 0.27193469 0.27396081 0.29391537\n",
            " 0.30527412 0.30957203 0.33935038 0.34579724 0.36882174 0.35488427\n",
            " 0.36225211 0.35973478 0.3596734  0.38306628 0.40670476 0.36126959\n",
            " 0.36399651 0.36361474 0.36054885 0.35591274 0.35074219 0.34571451\n",
            " 0.34115681 0.33716202 0.33370411 0.33071446 0.32811958 0.32585335\n",
            " 0.32385853 0.32208475 0.32048681 0.3190248  0.3176643  0.31637692\n",
            " 0.31514102 0.31394106 0.31276718 0.31161427]\n",
            "23 day output [[0.31048092]]\n",
            "24 day input [0.6779027  0.6629828  0.76109789 0.99428989 1.         0.94695161\n",
            " 0.97900169 0.96242405 0.89285933 0.89918342 0.88137781 0.851845\n",
            " 0.8575551  0.65272918 0.65248357 0.54878128 0.50703019 0.50967029\n",
            " 0.54810584 0.53017746 0.50690735 0.47946218 0.44157916 0.4730767\n",
            " 0.45827964 0.43574628 0.44606129 0.4440351  0.43071162 0.44532454\n",
            " 0.39289006 0.36354147 0.3582612  0.36796222 0.3542089  0.36710262\n",
            " 0.37324249 0.40136303 0.39307421 0.41929149 0.42015108 0.40559956\n",
            " 0.39184624 0.37625104 0.35574387 0.339289   0.35568249 0.32725488\n",
            " 0.32436917 0.32197461 0.29262601 0.26954013 0.30232703 0.29311723\n",
            " 0.27328544 0.27156632 0.27261007 0.26518084 0.25523421 0.24031438\n",
            " 0.23749006 0.22306137 0.27193469 0.27396081 0.29391537 0.30527412\n",
            " 0.30957203 0.33935038 0.34579724 0.36882174 0.35488427 0.36225211\n",
            " 0.35973478 0.3596734  0.38306628 0.40670476 0.36126959 0.36399651\n",
            " 0.36361474 0.36054885 0.35591274 0.35074219 0.34571451 0.34115681\n",
            " 0.33716202 0.33370411 0.33071446 0.32811958 0.32585335 0.32385853\n",
            " 0.32208475 0.32048681 0.3190248  0.3176643  0.31637692 0.31514102\n",
            " 0.31394106 0.31276718 0.31161427 0.31048092]\n",
            "24 day output [[0.3093684]]\n",
            "25 day input [0.6629828  0.76109789 0.99428989 1.         0.94695161 0.97900169\n",
            " 0.96242405 0.89285933 0.89918342 0.88137781 0.851845   0.8575551\n",
            " 0.65272918 0.65248357 0.54878128 0.50703019 0.50967029 0.54810584\n",
            " 0.53017746 0.50690735 0.47946218 0.44157916 0.4730767  0.45827964\n",
            " 0.43574628 0.44606129 0.4440351  0.43071162 0.44532454 0.39289006\n",
            " 0.36354147 0.3582612  0.36796222 0.3542089  0.36710262 0.37324249\n",
            " 0.40136303 0.39307421 0.41929149 0.42015108 0.40559956 0.39184624\n",
            " 0.37625104 0.35574387 0.339289   0.35568249 0.32725488 0.32436917\n",
            " 0.32197461 0.29262601 0.26954013 0.30232703 0.29311723 0.27328544\n",
            " 0.27156632 0.27261007 0.26518084 0.25523421 0.24031438 0.23749006\n",
            " 0.22306137 0.27193469 0.27396081 0.29391537 0.30527412 0.30957203\n",
            " 0.33935038 0.34579724 0.36882174 0.35488427 0.36225211 0.35973478\n",
            " 0.3596734  0.38306628 0.40670476 0.36126959 0.36399651 0.36361474\n",
            " 0.36054885 0.35591274 0.35074219 0.34571451 0.34115681 0.33716202\n",
            " 0.33370411 0.33071446 0.32811958 0.32585335 0.32385853 0.32208475\n",
            " 0.32048681 0.3190248  0.3176643  0.31637692 0.31514102 0.31394106\n",
            " 0.31276718 0.31161427 0.31048092 0.3093684 ]\n",
            "25 day output [[0.30827954]]\n",
            "26 day input [0.76109789 0.99428989 1.         0.94695161 0.97900169 0.96242405\n",
            " 0.89285933 0.89918342 0.88137781 0.851845   0.8575551  0.65272918\n",
            " 0.65248357 0.54878128 0.50703019 0.50967029 0.54810584 0.53017746\n",
            " 0.50690735 0.47946218 0.44157916 0.4730767  0.45827964 0.43574628\n",
            " 0.44606129 0.4440351  0.43071162 0.44532454 0.39289006 0.36354147\n",
            " 0.3582612  0.36796222 0.3542089  0.36710262 0.37324249 0.40136303\n",
            " 0.39307421 0.41929149 0.42015108 0.40559956 0.39184624 0.37625104\n",
            " 0.35574387 0.339289   0.35568249 0.32725488 0.32436917 0.32197461\n",
            " 0.29262601 0.26954013 0.30232703 0.29311723 0.27328544 0.27156632\n",
            " 0.27261007 0.26518084 0.25523421 0.24031438 0.23749006 0.22306137\n",
            " 0.27193469 0.27396081 0.29391537 0.30527412 0.30957203 0.33935038\n",
            " 0.34579724 0.36882174 0.35488427 0.36225211 0.35973478 0.3596734\n",
            " 0.38306628 0.40670476 0.36126959 0.36399651 0.36361474 0.36054885\n",
            " 0.35591274 0.35074219 0.34571451 0.34115681 0.33716202 0.33370411\n",
            " 0.33071446 0.32811958 0.32585335 0.32385853 0.32208475 0.32048681\n",
            " 0.3190248  0.3176643  0.31637692 0.31514102 0.31394106 0.31276718\n",
            " 0.31161427 0.31048092 0.3093684  0.30827954]\n",
            "26 day output [[0.30721804]]\n",
            "27 day input [0.99428989 1.         0.94695161 0.97900169 0.96242405 0.89285933\n",
            " 0.89918342 0.88137781 0.851845   0.8575551  0.65272918 0.65248357\n",
            " 0.54878128 0.50703019 0.50967029 0.54810584 0.53017746 0.50690735\n",
            " 0.47946218 0.44157916 0.4730767  0.45827964 0.43574628 0.44606129\n",
            " 0.4440351  0.43071162 0.44532454 0.39289006 0.36354147 0.3582612\n",
            " 0.36796222 0.3542089  0.36710262 0.37324249 0.40136303 0.39307421\n",
            " 0.41929149 0.42015108 0.40559956 0.39184624 0.37625104 0.35574387\n",
            " 0.339289   0.35568249 0.32725488 0.32436917 0.32197461 0.29262601\n",
            " 0.26954013 0.30232703 0.29311723 0.27328544 0.27156632 0.27261007\n",
            " 0.26518084 0.25523421 0.24031438 0.23749006 0.22306137 0.27193469\n",
            " 0.27396081 0.29391537 0.30527412 0.30957203 0.33935038 0.34579724\n",
            " 0.36882174 0.35488427 0.36225211 0.35973478 0.3596734  0.38306628\n",
            " 0.40670476 0.36126959 0.36399651 0.36361474 0.36054885 0.35591274\n",
            " 0.35074219 0.34571451 0.34115681 0.33716202 0.33370411 0.33071446\n",
            " 0.32811958 0.32585335 0.32385853 0.32208475 0.32048681 0.3190248\n",
            " 0.3176643  0.31637692 0.31514102 0.31394106 0.31276718 0.31161427\n",
            " 0.31048092 0.3093684  0.30827954 0.30721804]\n",
            "27 day output [[0.30618772]]\n",
            "28 day input [1.         0.94695161 0.97900169 0.96242405 0.89285933 0.89918342\n",
            " 0.88137781 0.851845   0.8575551  0.65272918 0.65248357 0.54878128\n",
            " 0.50703019 0.50967029 0.54810584 0.53017746 0.50690735 0.47946218\n",
            " 0.44157916 0.4730767  0.45827964 0.43574628 0.44606129 0.4440351\n",
            " 0.43071162 0.44532454 0.39289006 0.36354147 0.3582612  0.36796222\n",
            " 0.3542089  0.36710262 0.37324249 0.40136303 0.39307421 0.41929149\n",
            " 0.42015108 0.40559956 0.39184624 0.37625104 0.35574387 0.339289\n",
            " 0.35568249 0.32725488 0.32436917 0.32197461 0.29262601 0.26954013\n",
            " 0.30232703 0.29311723 0.27328544 0.27156632 0.27261007 0.26518084\n",
            " 0.25523421 0.24031438 0.23749006 0.22306137 0.27193469 0.27396081\n",
            " 0.29391537 0.30527412 0.30957203 0.33935038 0.34579724 0.36882174\n",
            " 0.35488427 0.36225211 0.35973478 0.3596734  0.38306628 0.40670476\n",
            " 0.36126959 0.36399651 0.36361474 0.36054885 0.35591274 0.35074219\n",
            " 0.34571451 0.34115681 0.33716202 0.33370411 0.33071446 0.32811958\n",
            " 0.32585335 0.32385853 0.32208475 0.32048681 0.3190248  0.3176643\n",
            " 0.31637692 0.31514102 0.31394106 0.31276718 0.31161427 0.31048092\n",
            " 0.3093684  0.30827954 0.30721804 0.30618772]\n",
            "28 day output [[0.3051921]]\n",
            "29 day input [0.94695161 0.97900169 0.96242405 0.89285933 0.89918342 0.88137781\n",
            " 0.851845   0.8575551  0.65272918 0.65248357 0.54878128 0.50703019\n",
            " 0.50967029 0.54810584 0.53017746 0.50690735 0.47946218 0.44157916\n",
            " 0.4730767  0.45827964 0.43574628 0.44606129 0.4440351  0.43071162\n",
            " 0.44532454 0.39289006 0.36354147 0.3582612  0.36796222 0.3542089\n",
            " 0.36710262 0.37324249 0.40136303 0.39307421 0.41929149 0.42015108\n",
            " 0.40559956 0.39184624 0.37625104 0.35574387 0.339289   0.35568249\n",
            " 0.32725488 0.32436917 0.32197461 0.29262601 0.26954013 0.30232703\n",
            " 0.29311723 0.27328544 0.27156632 0.27261007 0.26518084 0.25523421\n",
            " 0.24031438 0.23749006 0.22306137 0.27193469 0.27396081 0.29391537\n",
            " 0.30527412 0.30957203 0.33935038 0.34579724 0.36882174 0.35488427\n",
            " 0.36225211 0.35973478 0.3596734  0.38306628 0.40670476 0.36126959\n",
            " 0.36399651 0.36361474 0.36054885 0.35591274 0.35074219 0.34571451\n",
            " 0.34115681 0.33716202 0.33370411 0.33071446 0.32811958 0.32585335\n",
            " 0.32385853 0.32208475 0.32048681 0.3190248  0.3176643  0.31637692\n",
            " 0.31514102 0.31394106 0.31276718 0.31161427 0.31048092 0.3093684\n",
            " 0.30827954 0.30721804 0.30618772 0.30519211]\n",
            "29 day output [[0.30423418]]\n",
            "[[0.36126959323883057], [0.3639965057373047], [0.3636147379875183], [0.36054885387420654], [0.3559127449989319], [0.3507421910762787], [0.3457145094871521], [0.34115681052207947], [0.3371620178222656], [0.3337041139602661], [0.33071446418762207], [0.32811957597732544], [0.3258533477783203], [0.3238585293292999], [0.3220847547054291], [0.32048681378364563], [0.31902480125427246], [0.3176642954349518], [0.3163769245147705], [0.3151410222053528], [0.3139410614967346], [0.3127671778202057], [0.3116142749786377], [0.31048092246055603], [0.30936840176582336], [0.30827954411506653], [0.3072180449962616], [0.3061877191066742], [0.30519211292266846], [0.30423417687416077]]\n"
          ]
        }
      ],
      "metadata": {
        "id": "QeKnHSM2c513",
        "colab": {
          "base_uri": "https://localhost:8080/"
        },
        "outputId": "651ce0e2-c076-4a01-eee3-8f1b800e9fb5"
      }
    },
    {
      "cell_type": "code",
      "execution_count": null,
      "source": [
        "day_new=np.arange(1,101)\n",
        "day_pred=np.arange(101,131)"
      ],
      "outputs": [],
      "metadata": {
        "id": "Lr8IH_HDg_MK"
      }
    },
    {
      "cell_type": "code",
      "execution_count": null,
      "source": [
        "len(sk1)"
      ],
      "outputs": [
        {
          "output_type": "execute_result",
          "data": {
            "text/plain": [
              "654"
            ]
          },
          "metadata": {
            "tags": []
          },
          "execution_count": 280
        }
      ],
      "metadata": {
        "id": "HJjdl617hOhN",
        "colab": {
          "base_uri": "https://localhost:8080/"
        },
        "outputId": "a23aebe8-667a-4645-950a-c557b8a3f2fc"
      }
    },
    {
      "cell_type": "code",
      "execution_count": null,
      "source": [
        "sk2=sk1.tolist()\n",
        "sk2.extend(lst_output)"
      ],
      "outputs": [],
      "metadata": {
        "id": "MOJHTnlzhRRz"
      }
    },
    {
      "cell_type": "code",
      "execution_count": null,
      "source": [
        "len(sk1)"
      ],
      "outputs": [
        {
          "output_type": "execute_result",
          "data": {
            "text/plain": [
              "654"
            ]
          },
          "metadata": {
            "tags": []
          },
          "execution_count": 282
        }
      ],
      "metadata": {
        "colab": {
          "base_uri": "https://localhost:8080/"
        },
        "id": "oC0b-vHdu_Fm",
        "outputId": "3e03a6dc-2f8c-4a67-c5f7-d6293ad8e787"
      }
    },
    {
      "cell_type": "code",
      "execution_count": null,
      "source": [
        "plt.plot(day_new,scaler.inverse_transform(sk1[654:]))\n",
        "plt.plot(day_pred,scaler.inverse_transform(lst_output))"
      ],
      "outputs": [
        {
          "output_type": "error",
          "ename": "ValueError",
          "evalue": "ignored",
          "traceback": [
            "\u001b[0;31m---------------------------------------------------------------------------\u001b[0m",
            "\u001b[0;31mValueError\u001b[0m                                Traceback (most recent call last)",
            "\u001b[0;32m<ipython-input-283-3d7cc6d18b9c>\u001b[0m in \u001b[0;36m<module>\u001b[0;34m()\u001b[0m\n\u001b[0;32m----> 1\u001b[0;31m \u001b[0mplt\u001b[0m\u001b[0;34m.\u001b[0m\u001b[0mplot\u001b[0m\u001b[0;34m(\u001b[0m\u001b[0mday_new\u001b[0m\u001b[0;34m,\u001b[0m\u001b[0mscaler\u001b[0m\u001b[0;34m.\u001b[0m\u001b[0minverse_transform\u001b[0m\u001b[0;34m(\u001b[0m\u001b[0msk1\u001b[0m\u001b[0;34m[\u001b[0m\u001b[0;36m654\u001b[0m\u001b[0;34m:\u001b[0m\u001b[0;34m]\u001b[0m\u001b[0;34m)\u001b[0m\u001b[0;34m)\u001b[0m\u001b[0;34m\u001b[0m\u001b[0;34m\u001b[0m\u001b[0m\n\u001b[0m\u001b[1;32m      2\u001b[0m \u001b[0mplt\u001b[0m\u001b[0;34m.\u001b[0m\u001b[0mplot\u001b[0m\u001b[0;34m(\u001b[0m\u001b[0mday_pred\u001b[0m\u001b[0;34m,\u001b[0m\u001b[0mscaler\u001b[0m\u001b[0;34m.\u001b[0m\u001b[0minverse_transform\u001b[0m\u001b[0;34m(\u001b[0m\u001b[0mlst_output\u001b[0m\u001b[0;34m)\u001b[0m\u001b[0;34m)\u001b[0m\u001b[0;34m\u001b[0m\u001b[0;34m\u001b[0m\u001b[0m\n",
            "\u001b[0;32m/usr/local/lib/python3.6/dist-packages/sklearn/preprocessing/_data.py\u001b[0m in \u001b[0;36minverse_transform\u001b[0;34m(self, X)\u001b[0m\n\u001b[1;32m    432\u001b[0m \u001b[0;34m\u001b[0m\u001b[0m\n\u001b[1;32m    433\u001b[0m         X = check_array(X, copy=self.copy, dtype=FLOAT_DTYPES,\n\u001b[0;32m--> 434\u001b[0;31m                         force_all_finite=\"allow-nan\")\n\u001b[0m\u001b[1;32m    435\u001b[0m \u001b[0;34m\u001b[0m\u001b[0m\n\u001b[1;32m    436\u001b[0m         \u001b[0mX\u001b[0m \u001b[0;34m-=\u001b[0m \u001b[0mself\u001b[0m\u001b[0;34m.\u001b[0m\u001b[0mmin_\u001b[0m\u001b[0;34m\u001b[0m\u001b[0;34m\u001b[0m\u001b[0m\n",
            "\u001b[0;32m/usr/local/lib/python3.6/dist-packages/sklearn/utils/validation.py\u001b[0m in \u001b[0;36mcheck_array\u001b[0;34m(array, accept_sparse, accept_large_sparse, dtype, order, copy, force_all_finite, ensure_2d, allow_nd, ensure_min_samples, ensure_min_features, warn_on_dtype, estimator)\u001b[0m\n\u001b[1;32m    584\u001b[0m                              \u001b[0;34m\" minimum of %d is required%s.\"\u001b[0m\u001b[0;34m\u001b[0m\u001b[0;34m\u001b[0m\u001b[0m\n\u001b[1;32m    585\u001b[0m                              % (n_samples, array.shape, ensure_min_samples,\n\u001b[0;32m--> 586\u001b[0;31m                                 context))\n\u001b[0m\u001b[1;32m    587\u001b[0m \u001b[0;34m\u001b[0m\u001b[0m\n\u001b[1;32m    588\u001b[0m     \u001b[0;32mif\u001b[0m \u001b[0mensure_min_features\u001b[0m \u001b[0;34m>\u001b[0m \u001b[0;36m0\u001b[0m \u001b[0;32mand\u001b[0m \u001b[0marray\u001b[0m\u001b[0;34m.\u001b[0m\u001b[0mndim\u001b[0m \u001b[0;34m==\u001b[0m \u001b[0;36m2\u001b[0m\u001b[0;34m:\u001b[0m\u001b[0;34m\u001b[0m\u001b[0;34m\u001b[0m\u001b[0m\n",
            "\u001b[0;31mValueError\u001b[0m: Found array with 0 sample(s) (shape=(0, 1)) while a minimum of 1 is required."
          ]
        }
      ],
      "metadata": {
        "id": "Q1kzLVqIhcoe",
        "colab": {
          "base_uri": "https://localhost:8080/",
          "height": 337
        },
        "outputId": "46523425-317c-4730-fe8c-031c624239cb"
      }
    },
    {
      "cell_type": "code",
      "execution_count": null,
      "source": [
        "sk2=sk1.tolist()\n",
        "sk2.extend(lst_output)\n",
        "plt.plot(sk2[1500:])"
      ],
      "outputs": [],
      "metadata": {
        "id": "_NM9vl1yiKBe"
      }
    },
    {
      "cell_type": "markdown",
      "source": [
        "changed a variable name\n"
      ],
      "metadata": {
        "id": "rQnEb-Jli3Fr"
      }
    },
    {
      "cell_type": "code",
      "execution_count": null,
      "source": [
        "sk3=scaler.inverse_transform(sk2).tolist()\n",
        "plt.plot(sk3)"
      ],
      "outputs": [],
      "metadata": {
        "id": "VieQaj7Iirg9"
      }
    },
    {
      "cell_type": "code",
      "execution_count": null,
      "source": [
        "# The GRU architecture\n",
        "regressorGRU = Sequential()\n",
        "# First GRU layer with Dropout regularisation\n",
        "regressorGRU.add(GRU(units=50, return_sequences=True, input_shape=(x_train.shape[1],1), activation='tanh'))\n",
        "regressorGRU.add(Dropout(0.2))\n",
        "# Second GRU layer\n",
        "regressorGRU.add(GRU(units=50, return_sequences=True, input_shape=(x_train.shape[1],1), activation='tanh'))\n",
        "regressorGRU.add(Dropout(0.2))\n",
        "# Third GRU layer\n",
        "regressorGRU.add(GRU(units=50, return_sequences=True, input_shape=(x_train.shape[1],1), activation='tanh'))\n",
        "regressorGRU.add(Dropout(0.2))\n",
        "# Fourth GRU layer\n",
        "regressorGRU.add(GRU(units=50, activation='tanh'))\n",
        "regressorGRU.add(Dropout(0.2))\n",
        "# The output layer\n",
        "regressorGRU.add(Dense(units=1))\n",
        "# compiling the model"
      ],
      "outputs": [],
      "metadata": {
        "id": "GJtjfXyHm7sC"
      }
    },
    {
      "cell_type": "code",
      "execution_count": null,
      "source": [
        "regressorGRU.compile(optimizer=SGD(lr=0.01, decay=1e-7, momentum=0.9, nesterov=False), loss='mean_squared_error')\n",
        "\n",
        "# fitting the model\n",
        "\n",
        "regressorGRU.fit(x_train, y_train, epochs=5, batch_size=150)"
      ],
      "outputs": [
        {
          "output_type": "stream",
          "name": "stdout",
          "text": [
            "Epoch 1/5\n",
            "3/3 [==============================] - 0s 21ms/step - loss: 0.0840\n",
            "Epoch 2/5\n",
            "3/3 [==============================] - 0s 23ms/step - loss: 0.0118\n",
            "Epoch 3/5\n",
            "3/3 [==============================] - 0s 24ms/step - loss: 0.0472\n",
            "Epoch 4/5\n",
            "3/3 [==============================] - 0s 22ms/step - loss: 0.0268\n",
            "Epoch 5/5\n",
            "3/3 [==============================] - 0s 21ms/step - loss: 0.0121\n"
          ]
        },
        {
          "output_type": "execute_result",
          "data": {
            "text/plain": [
              "<tensorflow.python.keras.callbacks.History at 0x7f9b887bd5f8>"
            ]
          },
          "metadata": {
            "tags": []
          },
          "execution_count": 285
        }
      ],
      "metadata": {
        "colab": {
          "base_uri": "https://localhost:8080/"
        },
        "id": "IpdkNnDhnYUj",
        "outputId": "f1dd0b5a-6918-4338-c8bd-3d727c6e55ff"
      }
    },
    {
      "cell_type": "code",
      "execution_count": null,
      "source": [
        "predicted_with_gru = regressorGRU.predict(x_test)\n",
        "predicted_with_gru = scaler.inverse_transform(predicted_with_gru)\n"
      ],
      "outputs": [],
      "metadata": {
        "id": "ofXLb0oRn8vI"
      }
    },
    {
      "cell_type": "code",
      "execution_count": null,
      "source": [
        "predicted_with_gru"
      ],
      "outputs": [
        {
          "output_type": "execute_result",
          "data": {
            "text/plain": [
              "array([[638.282  ],\n",
              "       [639.13055],\n",
              "       [639.9367 ],\n",
              "       [640.63684],\n",
              "       [641.1534 ],\n",
              "       [641.4606 ],\n",
              "       [641.7862 ],\n",
              "       [642.0853 ],\n",
              "       [642.29254],\n",
              "       [642.39966],\n",
              "       [642.4891 ],\n",
              "       [642.5415 ],\n",
              "       [642.53345],\n",
              "       [642.517  ],\n",
              "       [642.5186 ],\n",
              "       [642.4734 ],\n",
              "       [642.37177],\n",
              "       [642.28015],\n",
              "       [642.31354],\n",
              "       [642.4573 ],\n",
              "       [642.6546 ],\n",
              "       [642.8412 ],\n",
              "       [643.1816 ],\n",
              "       [643.61975],\n",
              "       [644.2481 ],\n",
              "       [645.3599 ],\n",
              "       [646.7597 ],\n",
              "       [648.16364],\n",
              "       [649.5643 ],\n",
              "       [650.93744],\n",
              "       [652.1621 ],\n",
              "       [653.24475],\n",
              "       [654.1602 ],\n",
              "       [654.85443],\n",
              "       [655.34576],\n",
              "       [655.358  ],\n",
              "       [654.99866],\n",
              "       [654.27014],\n",
              "       [653.2421 ],\n",
              "       [652.0479 ],\n",
              "       [650.8393 ],\n",
              "       [649.6266 ],\n",
              "       [648.4005 ],\n",
              "       [647.1748 ],\n",
              "       [645.96234],\n",
              "       [644.88367],\n",
              "       [643.94574],\n",
              "       [643.1058 ],\n",
              "       [642.38043],\n",
              "       [641.7659 ],\n",
              "       [641.2302 ],\n",
              "       [640.79083],\n",
              "       [640.3568 ],\n",
              "       [639.8905 ],\n",
              "       [639.4201 ],\n",
              "       [638.9895 ],\n",
              "       [638.57916],\n",
              "       [638.206  ],\n",
              "       [637.8786 ],\n",
              "       [637.6366 ],\n",
              "       [637.45123],\n",
              "       [637.35095],\n",
              "       [637.3239 ],\n",
              "       [637.3284 ],\n",
              "       [637.3364 ],\n",
              "       [637.3293 ],\n",
              "       [637.28436],\n",
              "       [637.18884],\n",
              "       [637.0851 ],\n",
              "       [636.9317 ],\n",
              "       [636.7304 ],\n",
              "       [636.498  ],\n",
              "       [636.20636],\n",
              "       [635.84607],\n",
              "       [635.5104 ],\n",
              "       [635.2009 ],\n",
              "       [634.8811 ],\n",
              "       [634.5594 ],\n",
              "       [634.2573 ],\n",
              "       [633.9743 ],\n",
              "       [633.7004 ],\n",
              "       [633.4208 ],\n",
              "       [633.1455 ],\n",
              "       [632.86444],\n",
              "       [632.6683 ],\n",
              "       [632.54626],\n",
              "       [632.49854],\n",
              "       [632.5187 ],\n",
              "       [632.5927 ],\n",
              "       [632.7538 ],\n",
              "       [632.988  ],\n",
              "       [633.29987],\n",
              "       [633.6329 ],\n",
              "       [633.97516],\n",
              "       [634.31116],\n",
              "       [634.6298 ]], dtype=float32)"
            ]
          },
          "metadata": {
            "tags": []
          },
          "execution_count": 287
        }
      ],
      "metadata": {
        "colab": {
          "base_uri": "https://localhost:8080/"
        },
        "id": "lTGOhdARobrD",
        "outputId": "58fd0125-2674-43d9-c515-3e047359bbc0"
      }
    }
  ]
}